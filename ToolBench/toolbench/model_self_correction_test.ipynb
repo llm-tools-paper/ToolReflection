{
 "cells": [
  {
   "cell_type": "code",
   "execution_count": 1,
   "id": "00e0b1cf-963f-4962-9b35-e9f13927ee86",
   "metadata": {},
   "outputs": [],
   "source": [
    "%load_ext autoreload\n",
    "%autoreload 2\n",
    "import os\n",
    "import sys\n",
    "sys.path.insert(0, '/data2/polyakov/instruction_tuning/ToolBench')\n",
    "sys.path.insert(0, '/data2/polyakov/instruction_tuning/ToolBench/toolbench')\n",
    "sys.path.insert(0, '/data2/polyakov/instruction_tuning/ToolBench/toolbench/inference')\n",
    "os.environ[\"CUDA_VISIBLE_DEVICES\"]=\"0,1\""
   ]
  },
  {
   "cell_type": "code",
   "execution_count": 2,
   "id": "de125fe7-e87a-441d-bd5e-e5ab34b31714",
   "metadata": {},
   "outputs": [
    {
     "name": "stderr",
     "output_type": "stream",
     "text": [
      "/data2/polyakov/anaconda3/envs/alpaca-lora/lib/python3.10/site-packages/tqdm/auto.py:21: TqdmWarning: IProgress not found. Please update jupyter and ipywidgets. See https://ipywidgets.readthedocs.io/en/stable/user_install.html\n",
      "  from .autonotebook import tqdm as notebook_tqdm\n"
     ]
    }
   ],
   "source": [
    "import argparse\n",
    "import json\n",
    "from toolbench.inference.Downstream_tasks.rapidapi import pipeline_runner\n",
    "from toolbench.inference.Downstream_tasks.rapidapi import rapidapi_wrapper\n",
    "from toolbench.inference.Algorithms.single_chain import single_chain"
   ]
  },
  {
   "cell_type": "code",
   "execution_count": 3,
   "id": "83e2d305-d2c3-45ad-be28-bc6d9ae2c7c5",
   "metadata": {},
   "outputs": [],
   "source": [
    "parser = argparse.ArgumentParser()\n",
    "parser.add_argument('--backbone_model', type=str, default=\"toolllama\", required=False, help='chatgpt_function or davinci or toolllama')\n",
    "parser.add_argument('--openai_key', type=str, default=\"\", required=False, help='openai key for chatgpt_function or davinci model')\n",
    "parser.add_argument('--model_path', type=str, default=\"your_model_path/\", required=False, help='')\n",
    "parser.add_argument('--tool_root_dir', type=str, default=\"your_tools_path/\", required=True, help='')\n",
    "parser.add_argument(\"--lora\", action=\"store_true\", help=\"Load lora model or not.\")\n",
    "parser.add_argument('--lora_path', type=str, default=\"your_lora_path if lora\", required=False, help='')\n",
    "parser.add_argument('--max_observation_length', type=int, default=1024, required=False, help='maximum observation length')\n",
    "parser.add_argument('--observ_compress_method', type=str, default=\"truncate\", choices=[\"truncate\", \"filter\", \"random\"], required=False, help='observation compress method')\n",
    "parser.add_argument('--method', type=str, default=\"CoT@1\", required=False, help='method for answer generation: CoT@n,Reflexion@n,BFS,DFS,UCT_vote')\n",
    "parser.add_argument('--input_query_file', type=str, default=\"\", required=False, help='input path')\n",
    "parser.add_argument('--output_answer_file', type=str, default=\"\",required=False, help='output path')\n",
    "parser.add_argument('--toolbench_key', type=str, default=\"\",required=False, help='your toolbench key to request rapidapi service')\n",
    "parser.add_argument('--rapidapi_key', type=str, default=\"\",required=False, help='your rapidapi key to request rapidapi service')\n",
    "parser.add_argument('--use_rapidapi_key', action=\"store_true\", help=\"To use customized rapidapi service or not.\")\n",
    "\n",
    "args = parser.parse_args(['--model_path', '/data6/ilseyar/toolbench/ToolLLaMA-2-7b/', \n",
    "                          '--input_query_file', '/data2/ilseyar/Projects/toolformer_data_convertion/eval/G1_eval_query.json',\n",
    "                          '--output_answer_file', '/data2/polyakov/instruction_tuning/ToolBench/data/answer/test_toollama_2',\n",
    "                          '--toolbench_key', '2TLxGfLkzebcy7trDP4RzqcbnuAFypTHbKlRNvYCGuVsn5Svv3',\n",
    "                          '--tool_root_dir', '/data2/polyakov/instruction_tuning/ToolBench/data/toolenv/tools'])"
   ]
  },
  {
   "cell_type": "code",
   "execution_count": 4,
   "id": "a3b27a90-5df7-49bf-bb55-656195af56ad",
   "metadata": {},
   "outputs": [
    {
     "name": "stdout",
     "output_type": "stream",
     "text": [
      "Condensing Positional embeddings from 8192 to 2048\n",
      "Condensing Positional embeddings from 8192 to 2048\n",
      "Condensing Positional embeddings from 8192 to 2048\n",
      "Condensing Positional embeddings from 8192 to 2048\n",
      "Condensing Positional embeddings from 8192 to 2048\n",
      "Condensing Positional embeddings from 8192 to 2048\n",
      "Condensing Positional embeddings from 8192 to 2048\n",
      "Condensing Positional embeddings from 8192 to 2048\n",
      "Condensing Positional embeddings from 8192 to 2048\n",
      "Condensing Positional embeddings from 8192 to 2048\n",
      "Condensing Positional embeddings from 8192 to 2048\n",
      "Condensing Positional embeddings from 8192 to 2048\n",
      "Condensing Positional embeddings from 8192 to 2048\n",
      "Condensing Positional embeddings from 8192 to 2048\n",
      "Condensing Positional embeddings from 8192 to 2048\n",
      "Condensing Positional embeddings from 8192 to 2048\n",
      "Condensing Positional embeddings from 8192 to 2048\n",
      "Condensing Positional embeddings from 8192 to 2048\n",
      "Condensing Positional embeddings from 8192 to 2048\n",
      "Condensing Positional embeddings from 8192 to 2048\n",
      "Condensing Positional embeddings from 8192 to 2048\n",
      "Condensing Positional embeddings from 8192 to 2048\n",
      "Condensing Positional embeddings from 8192 to 2048\n",
      "Condensing Positional embeddings from 8192 to 2048\n",
      "Condensing Positional embeddings from 8192 to 2048\n",
      "Condensing Positional embeddings from 8192 to 2048\n",
      "Condensing Positional embeddings from 8192 to 2048\n",
      "Condensing Positional embeddings from 8192 to 2048\n",
      "Condensing Positional embeddings from 8192 to 2048\n",
      "Condensing Positional embeddings from 8192 to 2048\n",
      "Condensing Positional embeddings from 8192 to 2048\n",
      "Condensing Positional embeddings from 8192 to 2048\n"
     ]
    },
    {
     "name": "stderr",
     "output_type": "stream",
     "text": [
      "The model weights are not tied. Please use the `tie_weights` method before using the `infer_auto_device` function.\n",
      "Loading checkpoint shards: 100%|██████████████████████████████████████████████████████████████| 3/3 [00:23<00:00,  7.76s/it]\n",
      "/data2/polyakov/anaconda3/envs/alpaca-lora/lib/python3.10/site-packages/transformers/generation/configuration_utils.py:362: UserWarning: `do_sample` is set to `False`. However, `temperature` is set to `0.9` -- this flag is only used in sample-based generation modes. You should set `do_sample=True` or unset `temperature`. This was detected when initializing the generation config instance, which means the corresponding file may hold incorrect parameterization and should be fixed.\n",
      "  warnings.warn(\n",
      "/data2/polyakov/anaconda3/envs/alpaca-lora/lib/python3.10/site-packages/transformers/generation/configuration_utils.py:367: UserWarning: `do_sample` is set to `False`. However, `top_p` is set to `0.6` -- this flag is only used in sample-based generation modes. You should set `do_sample=True` or unset `top_p`. This was detected when initializing the generation config instance, which means the corresponding file may hold incorrect parameterization and should be fixed.\n",
      "  warnings.warn(\n",
      "100%|███████████████████████████████████████████████████████████████████████████████████████| 49/49 [00:14<00:00,  3.45it/s]\n"
     ]
    }
   ],
   "source": [
    "runner = pipeline_runner(args)"
   ]
  },
  {
   "cell_type": "code",
   "execution_count": 5,
   "id": "82242cec-6150-437c-bfea-a9de3f88ba6f",
   "metadata": {},
   "outputs": [
    {
     "name": "stdout",
     "output_type": "stream",
     "text": [
      "[['address_monitor', 'Monitor EVM network address transactions and get prompt and reliable webhook call with transaction details'], ['address_monitor', 'Monitor EVM network address transactions and get prompt and reliable webhook call with transaction details'], ['address_monitor', 'Monitor EVM network address transactions and get prompt and reliable webhook call with transaction details'], ['address_monitor', 'Monitor EVM network address transactions and get prompt and reliable webhook call with transaction details'], ['address_monitor', 'Monitor EVM network address transactions and get prompt and reliable webhook call with transaction details']]\n",
      "####################################################################################################\n",
      "{'api_list': [{'category_name': 'Data', 'tool_name': 'Address Monitor', 'api_name': 'Get service status', 'api_description': 'Get service status', 'required_parameters': [], 'optional_parameters': [], 'method': 'GET', 'template_response': {'statusCode': 'int', 'message': 'str', 'data': {'isRunning': 'bool', 'lastCrawledBlocks': {'BSC_TESTNET': 'str', 'ETHEREUM_MAINNET': 'str', 'ETHEREUM_GOERLI': 'str', 'POLYGON_MAINNET': 'str', 'POLYGON_TESTNET': 'str', 'BSC_MAINNET': 'str'}, 'unprocessedTransactionsCount': 'int', 'numberOfFailedTransactions': 'int', 'numberOfTotalTransactions': 'int'}, 'requestId': 'str'}}, {'category_name': 'Data', 'tool_name': 'Address Monitor', 'api_name': 'Get address transaction webhook', 'api_description': 'Get address transaction webhook', 'required_parameters': [{'name': 'transactionId', 'type': 'string', 'description': '', 'default': '4753498e-5ee1-45b2-a18c-a7ef3c9f71cd'}], 'optional_parameters': [], 'method': 'GET', 'template_response': {'statusCode': 'int', 'message': 'str', 'error': 'str', 'requestId': 'str'}}, {'category_name': 'Data', 'tool_name': 'Address Monitor', 'api_name': 'Get address transactions', 'api_description': 'Get address transactions', 'required_parameters': [], 'optional_parameters': [{'name': 'network', 'type': 'STRING', 'description': '', 'default': 'BSC_TESTNET'}, {'name': 'offset', 'type': 'STRING', 'description': '', 'default': '0'}, {'name': 'limit', 'type': 'STRING', 'description': '', 'default': '10'}, {'name': 'webhookStatus', 'type': 'STRING', 'description': '', 'default': 'COMPLETED'}, {'name': 'monitorAddressId', 'type': 'STRING', 'description': '', 'default': '8485d9c3-7f52-4ba7-8ec2-41543effa6ae'}], 'method': 'GET', 'template_response': {'statusCode': 'int', 'message': 'str', 'data': {'offset': 'int', 'limit': 'int', 'total': 'int', 'count': 'int', 'addressTransactions': 'empty list'}, 'requestId': 'str'}}, {'category_name': 'Data', 'tool_name': 'Address Monitor', 'api_name': 'Get quota usage', 'api_description': 'Get quota usage', 'required_parameters': [], 'optional_parameters': [], 'method': 'GET', 'template_response': {'statusCode': 'int', 'message': 'str', 'data': {'addressQuota': 'str', 'addressQuotaUsed': 'str'}, 'requestId': 'str'}}, {'category_name': 'Data', 'tool_name': 'Address Monitor', 'api_name': 'Get addresses', 'api_description': 'Get addresses', 'required_parameters': [], 'optional_parameters': [{'name': 'limit', 'type': 'STRING', 'description': '', 'default': '100'}, {'name': 'offset', 'type': 'STRING', 'description': '', 'default': '0'}, {'name': 'network', 'type': 'STRING', 'description': '', 'default': 'BSC_TESTNET'}], 'method': 'GET', 'template_response': {'statusCode': 'int', 'message': 'str', 'data': {'offset': 'int', 'limit': 'int', 'total': 'int', 'count': 'int', 'addresses': 'empty list'}, 'requestId': 'str'}}], 'query': \"I work for XYZ Company and we need to monitor the transactions happening on the Polygon Mainnet. Can you fetch the address transactions for the network 'POLYGON_MAINNET'? Also, provide the webhook status for the transaction with ID '4753498e-5ee1-45b2-a18c-a7ef3c9f71cd'.\", 'relevant APIs': [['Address Monitor', 'Get address transactions'], ['Address Monitor', 'Get address transaction webhook']], 'query_id': 8456}\n"
     ]
    }
   ],
   "source": [
    "idx = 6\n",
    "print(runner.task_list[idx][6])\n",
    "print('#' * 100)\n",
    "print(runner.task_list[idx][3])"
   ]
  },
  {
   "cell_type": "code",
   "execution_count": 6,
   "id": "12f462dc-1cd5-418a-904d-26b1b4ba52df",
   "metadata": {},
   "outputs": [],
   "source": [
    "idx = 4\n",
    "data_dict = runner.task_list[idx][3]\n",
    "args = runner.task_list[idx][4]\n",
    "tool_des = runner.task_list[idx][6]\n",
    "env = rapidapi_wrapper(data_dict, tool_des, None, args, process_id=0)"
   ]
  },
  {
   "cell_type": "code",
   "execution_count": 13,
   "id": "923037fa-e7d3-4b45-a050-f4f6574aaabc",
   "metadata": {
    "scrolled": true
   },
   "outputs": [
    {
     "data": {
      "text/plain": [
       "{'api_list': [{'category_name': 'Health_and_Fitness',\n",
       "   'tool_name': 'ClinicalMarkers',\n",
       "   'api_name': '/ascvd',\n",
       "   'api_description': ' ',\n",
       "   'required_parameters': [{'name': 'Gender',\n",
       "     'type': 'STRING',\n",
       "     'description': '',\n",
       "     'default': ''},\n",
       "    {'name': 'TreatmentForBloodPressure',\n",
       "     'type': 'BOOLEAN',\n",
       "     'description': '',\n",
       "     'default': True},\n",
       "    {'name': 'SystolicBloodPressureInMmHg',\n",
       "     'type': 'NUMBER',\n",
       "     'description': '',\n",
       "     'default': ''},\n",
       "    {'name': 'HdlCholesterolInMmolPerLt',\n",
       "     'type': 'NUMBER',\n",
       "     'description': '',\n",
       "     'default': ''},\n",
       "    {'name': 'Diabetes',\n",
       "     'type': 'BOOLEAN',\n",
       "     'description': '',\n",
       "     'default': True},\n",
       "    {'name': 'AgeInYears', 'type': 'NUMBER', 'description': '', 'default': ''},\n",
       "    {'name': 'TotalCholesterolInMmolPerLt',\n",
       "     'type': 'NUMBER',\n",
       "     'description': '',\n",
       "     'default': ''},\n",
       "    {'name': 'Smoker', 'type': 'BOOLEAN', 'description': '', 'default': True},\n",
       "    {'name': 'Race', 'type': 'STRING', 'description': '', 'default': ''}],\n",
       "   'optional_parameters': [],\n",
       "   'method': 'GET'},\n",
       "  {'category_name': 'Health_and_Fitness',\n",
       "   'tool_name': 'ClinicalMarkers',\n",
       "   'api_name': '/BacterialMeningitisScoreForChildren',\n",
       "   'api_description': ' ',\n",
       "   'required_parameters': [{'name': 'CSFGramStainPositive',\n",
       "     'type': 'STRING',\n",
       "     'description': '',\n",
       "     'default': ''},\n",
       "    {'name': 'SeizureAtOrPriorToInitialPresentation',\n",
       "     'type': 'STRING',\n",
       "     'description': '',\n",
       "     'default': ''},\n",
       "    {'name': 'CSFProteinOver80',\n",
       "     'type': 'STRING',\n",
       "     'description': '',\n",
       "     'default': ''},\n",
       "    {'name': 'CSF_ANCOver1000Cells',\n",
       "     'type': 'STRING',\n",
       "     'description': '',\n",
       "     'default': ''},\n",
       "    {'name': 'PeripheralBloodANCOver10000Cells',\n",
       "     'type': 'STRING',\n",
       "     'description': '',\n",
       "     'default': ''}],\n",
       "   'optional_parameters': [],\n",
       "   'method': 'GET'},\n",
       "  {'category_name': 'Health_and_Fitness',\n",
       "   'tool_name': 'ClinicalMarkers',\n",
       "   'api_name': '/apgar',\n",
       "   'api_description': ' ',\n",
       "   'required_parameters': [{'name': 'RespirationScore',\n",
       "     'type': 'STRING',\n",
       "     'description': '',\n",
       "     'default': ''},\n",
       "    {'name': 'SkinColorScore',\n",
       "     'type': 'STRING',\n",
       "     'description': '',\n",
       "     'default': ''},\n",
       "    {'name': 'HeartRateInBpm',\n",
       "     'type': 'NUMBER',\n",
       "     'description': '',\n",
       "     'default': ''},\n",
       "    {'name': 'ResponseToIrritableStimuliScore',\n",
       "     'type': 'STRING',\n",
       "     'description': '',\n",
       "     'default': ''},\n",
       "    {'name': 'ActivityScore',\n",
       "     'type': 'STRING',\n",
       "     'description': '',\n",
       "     'default': ''}],\n",
       "   'optional_parameters': [],\n",
       "   'method': 'GET'},\n",
       "  {'category_name': 'Health_and_Fitness',\n",
       "   'tool_name': 'ClinicalMarkers',\n",
       "   'api_name': '/apache2',\n",
       "   'api_description': ' ',\n",
       "   'required_parameters': [{'name': '_Fio2',\n",
       "     'type': 'NUMBER',\n",
       "     'description': '',\n",
       "     'default': ''},\n",
       "    {'name': 'ArterialPh', 'type': 'NUMBER', 'description': '', 'default': ''},\n",
       "    {'name': 'MeanArterialPressureInMmHg',\n",
       "     'type': 'NUMBER',\n",
       "     'description': '',\n",
       "     'default': ''},\n",
       "    {'name': 'HeartRateInBpm',\n",
       "     'type': 'NUMBER',\n",
       "     'description': '',\n",
       "     'default': ''},\n",
       "    {'name': 'RespiratoryRateInBpm',\n",
       "     'type': 'NUMBER',\n",
       "     'description': '',\n",
       "     'default': ''},\n",
       "    {'name': 'AcuteRenalFailure',\n",
       "     'type': 'BOOLEAN',\n",
       "     'description': '',\n",
       "     'default': True},\n",
       "    {'name': 'BodyTemperatureInDegCelsius',\n",
       "     'type': 'NUMBER',\n",
       "     'description': '',\n",
       "     'default': ''},\n",
       "    {'name': '_Aa', 'type': 'NUMBER', 'description': '', 'default': ''},\n",
       "    {'name': '_PaO2', 'type': 'NUMBER', 'description': '', 'default': ''},\n",
       "    {'name': 'Hematocrit', 'type': 'NUMBER', 'description': '', 'default': ''},\n",
       "    {'name': 'SerumSodiumInMeqPerLt',\n",
       "     'type': 'NUMBER',\n",
       "     'description': '',\n",
       "     'default': ''},\n",
       "    {'name': 'PostOperative',\n",
       "     'type': 'STRING',\n",
       "     'description': '',\n",
       "     'default': ''},\n",
       "    {'name': 'SerumPotasiumInMeqPerLt',\n",
       "     'type': 'NUMBER',\n",
       "     'description': '',\n",
       "     'default': ''},\n",
       "    {'name': 'Age', 'type': 'NUMBER', 'description': '', 'default': ''},\n",
       "    {'name': 'WhiteBloodCellCountInBillionsPerLt',\n",
       "     'type': 'NUMBER',\n",
       "     'description': '',\n",
       "     'default': ''},\n",
       "    {'name': 'SevereOrganInsufficiencyOrImmunocompromised',\n",
       "     'type': 'BOOLEAN',\n",
       "     'description': '',\n",
       "     'default': True},\n",
       "    {'name': 'GlasgowComaScore',\n",
       "     'type': 'NUMBER',\n",
       "     'description': '',\n",
       "     'default': ''},\n",
       "    {'name': 'SerumCreatinineInMicroMolsPerLt',\n",
       "     'type': 'NUMBER',\n",
       "     'description': '',\n",
       "     'default': ''}],\n",
       "   'optional_parameters': [],\n",
       "   'method': 'GET'},\n",
       "  {'category_name': 'Health_and_Fitness',\n",
       "   'tool_name': 'ClinicalMarkers',\n",
       "   'api_name': '/audit',\n",
       "   'api_description': ' ',\n",
       "   'required_parameters': [{'name': 'FrequencyOfMemoryLossDueToDrinking',\n",
       "     'type': 'STRING',\n",
       "     'description': '',\n",
       "     'default': ''},\n",
       "    {'name': 'FrequencyOfInabilityToActProperly',\n",
       "     'type': 'STRING',\n",
       "     'description': '',\n",
       "     'default': ''},\n",
       "    {'name': 'FrequencyOfInabilityToStopDrinking',\n",
       "     'type': 'STRING',\n",
       "     'description': '',\n",
       "     'default': ''},\n",
       "    {'name': 'FrequencyOfRemorseForDrinking',\n",
       "     'type': 'STRING',\n",
       "     'description': '',\n",
       "     'default': ''},\n",
       "    {'name': 'NumberOfDrinksPerDrinkingDay',\n",
       "     'type': 'NUMBER',\n",
       "     'description': '',\n",
       "     'default': ''},\n",
       "    {'name': 'DrinkInjury',\n",
       "     'type': 'STRING',\n",
       "     'description': '',\n",
       "     'default': ''},\n",
       "    {'name': 'SixDrinksFrenquency',\n",
       "     'type': 'STRING',\n",
       "     'description': '',\n",
       "     'default': ''},\n",
       "    {'name': 'FrequencyOfMorningDrinking',\n",
       "     'type': 'STRING',\n",
       "     'description': '',\n",
       "     'default': ''},\n",
       "    {'name': 'CutDownSuggestions',\n",
       "     'type': 'STRING',\n",
       "     'description': '',\n",
       "     'default': ''},\n",
       "    {'name': 'DrinkFrequency',\n",
       "     'type': 'STRING',\n",
       "     'description': '',\n",
       "     'default': ''}],\n",
       "   'optional_parameters': [],\n",
       "   'method': 'GET'},\n",
       "  {'category_name': 'Health_and_Fitness',\n",
       "   'tool_name': 'ClinicalMarkers',\n",
       "   'api_name': '/bmi',\n",
       "   'api_description': ' ',\n",
       "   'required_parameters': [{'name': 'HeightInCentrimetres',\n",
       "     'type': 'NUMBER',\n",
       "     'description': '',\n",
       "     'default': ''},\n",
       "    {'name': 'WeightInKilograms',\n",
       "     'type': 'NUMBER',\n",
       "     'description': '',\n",
       "     'default': ''}],\n",
       "   'optional_parameters': [],\n",
       "   'method': 'GET'},\n",
       "  {'category_name': 'Health_and_Fitness',\n",
       "   'tool_name': 'ClinicalMarkers',\n",
       "   'api_name': '/bsa',\n",
       "   'api_description': ' ',\n",
       "   'required_parameters': [{'name': 'WeightInKilograms',\n",
       "     'type': 'NUMBER',\n",
       "     'description': '',\n",
       "     'default': ''},\n",
       "    {'name': 'HeightInCentrimetres',\n",
       "     'type': 'NUMBER',\n",
       "     'description': '',\n",
       "     'default': ''}],\n",
       "   'optional_parameters': [],\n",
       "   'method': 'GET'}],\n",
       " 'query': 'Can you provide the BMI for a person with a height of 160 cm and a weight of 50 kg? Additionally, calculate the BSA for this person.',\n",
       " 'relevant APIs': [['ClinicalMarkers', '/bmi'], ['ClinicalMarkers', '/bsa']],\n",
       " 'query_id': 37074}"
      ]
     },
     "execution_count": 13,
     "metadata": {},
     "output_type": "execute_result"
    }
   ],
   "source": [
    "data_dict"
   ]
  },
  {
   "cell_type": "code",
   "execution_count": 12,
   "id": "382a2063-38d3-415c-a031-20fa5d837324",
   "metadata": {},
   "outputs": [
    {
     "data": {
      "text/plain": [
       "Namespace(backbone_model='toolllama', openai_key='', model_path='/data6/ilseyar/toolbench/ToolLLaMA-2-7b/', tool_root_dir='/data2/polyakov/instruction_tuning/ToolBench/data/toolenv/tools', lora=False, lora_path='your_lora_path if lora', max_observation_length=1024, observ_compress_method='truncate', method='CoT@1', input_query_file='/data2/ilseyar/Projects/toolformer_data_convertion/eval/G1_eval_query.json', output_answer_file='/data2/polyakov/instruction_tuning/ToolBench/data/answer/test_toollama_2', toolbench_key='2TLxGfLkzebcy7trDP4RzqcbnuAFypTHbKlRNvYCGuVsn5Svv3', rapidapi_key='', use_rapidapi_key=False)"
      ]
     },
     "execution_count": 12,
     "metadata": {},
     "output_type": "execute_result"
    }
   ],
   "source": [
    "args"
   ]
  },
  {
   "cell_type": "code",
   "execution_count": 17,
   "id": "75aef133-8da6-4223-8bd9-2b2f0a0e84d9",
   "metadata": {},
   "outputs": [
    {
     "data": {
      "text/plain": [
       "('{\"error\": \"No such function name: address_monitor\", \"response\": \"\"}', 1)"
      ]
     },
     "execution_count": 17,
     "metadata": {},
     "output_type": "execute_result"
    }
   ],
   "source": [
    "env._step('address_monitor', '{}')"
   ]
  },
  {
   "cell_type": "code",
   "execution_count": 18,
   "id": "22e62017-7d83-402e-87bf-29c00dadb451",
   "metadata": {},
   "outputs": [
    {
     "data": {
      "text/plain": [
       "{'api_list': [{'category_name': 'Events',\n",
       "   'tool_name': '👋 Demo Project',\n",
       "   'api_name': 'Get Categories',\n",
       "   'api_description': ' ',\n",
       "   'required_parameters': [],\n",
       "   'optional_parameters': [],\n",
       "   'method': 'GET',\n",
       "   'template_response': {'categories': [{'category': 'NoneType',\n",
       "      '_list_length': 872}]}},\n",
       "  {'category_name': 'Events',\n",
       "   'tool_name': '👋 Demo Project',\n",
       "   'api_name': 'Get Product',\n",
       "   'api_description': ' ',\n",
       "   'required_parameters': [{'name': 'id',\n",
       "     'type': 'NUMBER',\n",
       "     'description': '',\n",
       "     'default': ''}],\n",
       "   'optional_parameters': [],\n",
       "   'method': 'GET',\n",
       "   'template_response': {'statusCode': 'int', 'message': 'str'}},\n",
       "  {'category_name': 'Events',\n",
       "   'tool_name': '👋 Demo Project',\n",
       "   'api_name': 'Get Products in Category',\n",
       "   'api_description': ' ',\n",
       "   'required_parameters': [{'name': 'category',\n",
       "     'type': 'STRING',\n",
       "     'description': '',\n",
       "     'default': ''},\n",
       "    {'name': 'limit', 'type': 'NUMBER', 'description': '', 'default': ''},\n",
       "    {'name': 'skip', 'type': 'NUMBER', 'description': '', 'default': ''}],\n",
       "   'optional_parameters': [],\n",
       "   'method': 'GET',\n",
       "   'template_response': {'products': 'empty list',\n",
       "    'summary': {'count': 'int'}}},\n",
       "  {'category_name': 'Events',\n",
       "   'tool_name': '👋 Demo Project',\n",
       "   'api_name': 'Get Order',\n",
       "   'api_description': ' ',\n",
       "   'required_parameters': [{'name': 'id',\n",
       "     'type': 'STRING',\n",
       "     'description': '',\n",
       "     'default': ''}],\n",
       "   'optional_parameters': [],\n",
       "   'method': 'GET',\n",
       "   'template_response': {'statusCode': 'int', 'message': 'str'}},\n",
       "  {'category_name': 'Events',\n",
       "   'tool_name': '👋 Demo Project',\n",
       "   'api_name': 'Get User Orders',\n",
       "   'api_description': ' ',\n",
       "   'required_parameters': [],\n",
       "   'optional_parameters': [],\n",
       "   'method': 'GET',\n",
       "   'template_response': {'statusCode': 'int', 'message': 'str'}},\n",
       "  {'category_name': 'Events',\n",
       "   'tool_name': '👋 Demo Project',\n",
       "   'api_name': 'Get Products',\n",
       "   'api_description': ' ',\n",
       "   'required_parameters': [{'name': 'limit',\n",
       "     'type': 'NUMBER',\n",
       "     'description': '',\n",
       "     'default': ''},\n",
       "    {'name': 'skip', 'type': 'NUMBER', 'description': '', 'default': ''}],\n",
       "   'optional_parameters': [],\n",
       "   'method': 'GET',\n",
       "   'template_response': {'products': [{'id': 'int',\n",
       "      'name': 'str',\n",
       "      'category': 'NoneType',\n",
       "      '_list_length': 10}],\n",
       "    'summary': {'count': 'int'}}},\n",
       "  {'category_name': 'Events',\n",
       "   'tool_name': '👋 Demo Project',\n",
       "   'api_name': 'Me',\n",
       "   'api_description': ' ',\n",
       "   'required_parameters': [],\n",
       "   'optional_parameters': [],\n",
       "   'method': 'GET',\n",
       "   'template_response': {'statusCode': 'int', 'message': 'str'}}],\n",
       " 'query': \"I want to surprise my family with personalized custom boxes for our upcoming vacation. Can you recommend some categories for custom packaging and provide me with a list of products available in each category? I also need to check if there are any ongoing orders for the products I'm interested in.\",\n",
       " 'relevant APIs': [['👋 Demo Project', 'Get Categories'],\n",
       "  ['👋 Demo Project', 'Get Product'],\n",
       "  ['👋 Demo Project', 'Get Products in Category'],\n",
       "  ['👋 Demo Project', 'Get Order']],\n",
       " 'query_id': 47648}"
      ]
     },
     "execution_count": 18,
     "metadata": {},
     "output_type": "execute_result"
    }
   ],
   "source": [
    "runner.task_list[0][3]"
   ]
  },
  {
   "cell_type": "markdown",
   "id": "163b4c3f-a84e-45be-a977-cba33a4d5aaf",
   "metadata": {},
   "source": [
    "Попробуем прогнать модель на G1_test"
   ]
  },
  {
   "cell_type": "code",
   "execution_count": null,
   "id": "e3620db7-a992-4e9d-8acf-a5d0512dede3",
   "metadata": {},
   "outputs": [],
   "source": []
  },
  {
   "cell_type": "code",
   "execution_count": 37,
   "id": "059d7133-0529-49ba-821f-9c652d485e35",
   "metadata": {
    "scrolled": true
   },
   "outputs": [
    {
     "name": "stdout",
     "output_type": "stream",
     "text": [
      "[single_chain]try for the 1 time\n",
      "[process(0)]total tokens: 2\n",
      "Thought: \n",
      "Action: keyword_search_for_axesso_kaufland_data_service\n",
      "query to eCommerce-->axesso_kaufland_data_service-->keyword_search_for_axesso_kaufland_data_service\n",
      "Action Input: {\n",
      "  \"page\": 1,\n",
      "  \"keyword\": \"shoes\",\n",
      "  \"sortby\": \"relevance\",\n",
      "  \"excludesponsored\": true\n",
      "}\n",
      "Observation: {\"error\": \"\", \"response\": \"{'responseStatus': 'PRODUCT_FOUND_RESPONSE', 'responseMessage': 'Product successfully found!', 'sortStrategy': 'recommended', 'domainCode': 'de', 'keyword': 'shoes', 'numberOfProducts': 76, 'resultCount': 10000, 'nextPage': 2, 'lastPage': 250, 'searchProductDetails': [{'productDescription': 'ARA Shoes Alaska Alas Schuhe Damen braun 39', 'manufacturer': None, 'asin': '442851470', 'productId': '442851470', 'variationId': '442851470', 'countReview': 0, 'imgUrl': 'https://media.cdn.kaufland.de/product-images/300x300/bf25926956ebb3203ba85165305bfa1d.jpg', 'price': 93.0, 'retailPrice': 0.0, 'productRating': None, 'dpUrl': 'https://www.kaufland.de/product/442851470/', 'deliveryMessage': 'Lieferung Do. 06. - Fr. 07. Juli', 'sponsored': False, 'variations': None}, {'productDescription': 'Ara Osaka - Cream Leder Groesse: 39 Normal', 'manufacturer': None, 'asin': '453042448', 'productId': '453042448', 'variationId': '453042448', 'countReview': 0, 'imgUrl': 'https://media.cdn.kaufland.de/produc...\n",
      "[process(0)]total tokens: 2\n",
      "Thought: \n",
      "Action: keyword_search_for_axesso_kaufland_data_service\n",
      "query to eCommerce-->axesso_kaufland_data_service-->keyword_search_for_axesso_kaufland_data_service\n",
      "Action Input: {\n",
      "  \"page\": 1,\n",
      "  \"keyword\": \"shoes\",\n",
      "  \"sortby\": \"relevance\",\n",
      "  \"excludesponsored\": true\n",
      "}\n",
      "Observation: {\"error\": \"\", \"response\": \"{'responseStatus': 'PRODUCT_FOUND_RESPONSE', 'responseMessage': 'Product successfully found!', 'sortStrategy': 'recommended', 'domainCode': 'de', 'keyword': 'shoes', 'numberOfProducts': 76, 'resultCount': 10000, 'nextPage': 2, 'lastPage': 250, 'searchProductDetails': [{'productDescription': 'ARA Shoes Alaska Alas Schuhe Damen braun 39', 'manufacturer': None, 'asin': '442851470', 'productId': '442851470', 'variationId': '442851470', 'countReview': 0, 'imgUrl': 'https://media.cdn.kaufland.de/product-images/300x300/bf25926956ebb3203ba85165305bfa1d.jpg', 'price': 93.0, 'retailPrice': 0.0, 'productRating': None, 'dpUrl': 'https://www.kaufland.de/product/442851470/', 'deliveryMessage': 'Lieferung Do. 06. - Fr. 07. Juli', 'sponsored': False, 'variations': None}, {'productDescription': 'Ara Osaka - Cream Leder Groesse: 39 Normal', 'manufacturer': None, 'asin': '453042448', 'productId': '453042448', 'variationId': '453042448', 'countReview': 0, 'imgUrl': 'https://media.cdn.kaufland.de/produc...\n",
      "[process(0)]total tokens: 2\n",
      "Thought: \n",
      "Action: keyword_search_for_axesso_kaufland_data_service\n",
      "query to eCommerce-->axesso_kaufland_data_service-->keyword_search_for_axesso_kaufland_data_service\n",
      "Action Input: {\n",
      "  \"page\": 1,\n",
      "  \"keyword\": \"shoes\",\n",
      "  \"sortby\": \"relevance\",\n",
      "  \"excludesponsored\": true\n",
      "}\n",
      "Observation: {\"error\": \"\", \"response\": \"{'responseStatus': 'PRODUCT_FOUND_RESPONSE', 'responseMessage': 'Product successfully found!', 'sortStrategy': 'recommended', 'domainCode': 'de', 'keyword': 'shoes', 'numberOfProducts': 76, 'resultCount': 10000, 'nextPage': 2, 'lastPage': 250, 'searchProductDetails': [{'productDescription': 'ARA Shoes Alaska Alas Schuhe Damen braun 39', 'manufacturer': None, 'asin': '442851470', 'productId': '442851470', 'variationId': '442851470', 'countReview': 0, 'imgUrl': 'https://media.cdn.kaufland.de/product-images/300x300/bf25926956ebb3203ba85165305bfa1d.jpg', 'price': 93.0, 'retailPrice': 0.0, 'productRating': None, 'dpUrl': 'https://www.kaufland.de/product/442851470/', 'deliveryMessage': 'Lieferung Do. 06. - Fr. 07. Juli', 'sponsored': False, 'variations': None}, {'productDescription': 'Ara Osaka - Cream Leder Groesse: 39 Normal', 'manufacturer': None, 'asin': '453042448', 'productId': '453042448', 'variationId': '453042448', 'countReview': 0, 'imgUrl': 'https://media.cdn.kaufland.de/produc...\n",
      "[process(0)]total tokens: 2\n",
      "Thought: keyword_search_for_axesso_kaufland_data_service\n",
      "Action Input: {\n",
      "  \"page\": 1,\n",
      "  \"keyword\": \"shoes\",\n",
      "  \"sortby\": \"relevance\",\n",
      "  \"excludesponsored\": true\n",
      "\n",
      "Action: keyword_search_for_axesso_kaufland_data_service\n",
      "query to eCommerce-->axesso_kaufland_data_service-->keyword_search_for_axesso_kaufland_data_service\n",
      "Action Input: {\n",
      "  \"page\": 1,\n",
      "  \"keyword\": \"shoes\",\n",
      "  \"sortby\": \"relevance\",\n",
      "  \"excludesponsored\": true\n",
      "}\n",
      "Observation: {\"error\": \"\", \"response\": \"{'responseStatus': 'PRODUCT_FOUND_RESPONSE', 'responseMessage': 'Product successfully found!', 'sortStrategy': 'recommended', 'domainCode': 'de', 'keyword': 'shoes', 'numberOfProducts': 76, 'resultCount': 10000, 'nextPage': 2, 'lastPage': 250, 'searchProductDetails': [{'productDescription': 'ARA Shoes Alaska Alas Schuhe Damen braun 39', 'manufacturer': None, 'asin': '442851470', 'productId': '442851470', 'variationId': '442851470', 'countReview': 0, 'imgUrl': 'https://media.cdn.kaufland.de/product-images/300x300/bf25926956ebb3203ba85165305bfa1d.jpg', 'price': 93.0, 'retailPrice': 0.0, 'productRating': None, 'dpUrl': 'https://www.kaufland.de/product/442851470/', 'deliveryMessage': 'Lieferung Do. 06. - Fr. 07. Juli', 'sponsored': False, 'variations': None}, {'productDescription': 'Ara Osaka - Cream Leder Groesse: 39 Normal', 'manufacturer': None, 'asin': '453042448', 'productId': '453042448', 'variationId': '453042448', 'countReview': 0, 'imgUrl': 'https://media.cdn.kaufland.de/produc...\n"
     ]
    }
   ],
   "source": [
    "process_id = 0\n",
    "single_chain_max_step = 12\n",
    "\n",
    "for k, task in enumerate(runner.task_list[1:]):\n",
    "    method = task[0]\n",
    "    backbone_model = task[1]\n",
    "    query_id = task[2]\n",
    "    data_dict = task[3]\n",
    "    args = task[4]\n",
    "    tool_des = task[6]\n",
    "    env = rapidapi_wrapper(data_dict, tool_des, None, args, process_id=process_id)\n",
    "\n",
    "    passat = int(method.split(\"@\")[-1])\n",
    "    chain = single_chain(llm=backbone_model, io_func=env, process_id=process_id)\n",
    "    chain.start(pass_at=passat,\n",
    "                single_chain_max_step=single_chain_max_step,\n",
    "                answer=1)\n",
    "    break"
   ]
  },
  {
   "cell_type": "code",
   "execution_count": 12,
   "id": "bd57a73d-5f07-47d6-8de8-88594e78847f",
   "metadata": {},
   "outputs": [
    {
     "ename": "TypeError",
     "evalue": "'my_tree' object is not subscriptable",
     "output_type": "error",
     "traceback": [
      "\u001b[0;31m---------------------------------------------------------------------------\u001b[0m",
      "\u001b[0;31mTypeError\u001b[0m                                 Traceback (most recent call last)",
      "Cell \u001b[0;32mIn[12], line 1\u001b[0m\n\u001b[0;32m----> 1\u001b[0m \u001b[43mchain\u001b[49m\u001b[38;5;241;43m.\u001b[39;49m\u001b[43mtree\u001b[49m\u001b[43m[\u001b[49m\u001b[38;5;241;43m0\u001b[39;49m\u001b[43m]\u001b[49m\n",
      "\u001b[0;31mTypeError\u001b[0m: 'my_tree' object is not subscriptable"
     ]
    }
   ],
   "source": [
    "chain.tree[0]"
   ]
  },
  {
   "cell_type": "code",
   "execution_count": 19,
   "id": "0b8a080f-4c60-43f8-808f-016781482774",
   "metadata": {
    "scrolled": true
   },
   "outputs": [
    {
     "data": {
      "text/plain": [
       "[{'is_terminal': False,\n",
       "  'pruned': False,\n",
       "  'finished': False,\n",
       "  'depth': 1,\n",
       "  'node_type': 'Thought',\n",
       "  'description': '',\n",
       "  'Elo': 1000.0,\n",
       "  'child_count': 1,\n",
       "  'expand_num': 0},\n",
       " {'is_terminal': False,\n",
       "  'pruned': False,\n",
       "  'finished': False,\n",
       "  'depth': 2,\n",
       "  'node_type': 'Action',\n",
       "  'description': 'get_categories_for_demo_project',\n",
       "  'Elo': 1000.0,\n",
       "  'child_count': 1,\n",
       "  'expand_num': 0},\n",
       " {'is_terminal': False,\n",
       "  'pruned': False,\n",
       "  'finished': False,\n",
       "  'depth': 3,\n",
       "  'node_type': 'Action Input',\n",
       "  'description': '{}',\n",
       "  'Elo': 1000.0,\n",
       "  'observation': '{\"error\": \"Message error...\", \"response\": \"{\\\\\"categories\\\\\":[{\\\\\"category\\\\\":\\\\\"\\\\\"},{\\\\\"category\\\\\":\\\\\"fruits\\\\\"},{\\\\\"category\\\\\":null},{\\\\\"category\\\\\":\\\\\"string\\\\\"},{\\\\\"category\\\\\":\\\\\"computers\\\\\"},{\\\\\"category\\\\\":\\\\\"Technology\\\\\"},{\\\\\"category\\\\\":\\\\\"Sony bravia 8K 50xx\\\\\"},{\\\\\"category\\\\\":\\\\\"atomoviles\\\\\"},{\\\\\"category\\\\\":\\\\\"Intelligent Concrete Table\\\\\"},{\\\\\"category\\\\\":\\\\\"Plastico\\\\\"},{\\\\\"category\\\\\":\\\\\"Industrial\\\\\"},{\\\\\"category\\\\\":\\\\\"Furniture\\\\\"},{\\\\\"category\\\\\":\\\\\"Appliances\\\\\"},{\\\\\"category\\\\\":\\\\\"Accessories\\\\\"},{\\\\\"category\\\\\":\\\\\"cursos\\\\\"},{\\\\\"category\\\\\":\\\\\"televisores\\\\\"},{\\\\\"category\\\\\":\\\\\"Bike\\\\\"},{\\\\\"category\\\\\":\\\\\"PRUEBA\\\\\"},{\\\\\"category\\\\\":\\\\\"Ergonomic Granite Hat\\\\\"},{\\\\\"category\\\\\":\\\\\"Shoes\\\\\"},{\\\\\"category\\\\\":\\\\\"Software\\\\\"},{\\\\\"category\\\\\":\\\\\"Generic Plastic Chair\\\\\"},{\\\\\"category\\\\\":\\\\\"Grocery\\\\\"},{\\\\\"category\\\\\":\\\\\"Colombia\\\\\"},{\\\\\"category\\\\\":\\\\\"Appliance\\\\\"},{\\\\\"category\\\\\":\\\\\"Licensed Concrete Shirt\\\\\"},{\\\\\"category\\\\\":\\\\\"LATPOP\\\\\"},{\\\\\"category\\\\\":\\\\\"Cripto\\\\\"},{\\\\\"category\\\\\":\\\\\"2023\\\\\"},{\\\\\"category\\\\\":\\\\\"Computadoras\\\\\"},{\\\\\"category\\\\\":\\\\\"Practical Plastic Soap\\\\\"},{\\\\\"category\\\\\":\\\\\"TV\\\\\"},{\\\\\"catego...',\n",
       "  'observation_code': 11,\n",
       "  'child_count': 1,\n",
       "  'expand_num': 0,\n",
       "  'io_state': {}},\n",
       " {'is_terminal': False,\n",
       "  'pruned': False,\n",
       "  'finished': False,\n",
       "  'depth': 4,\n",
       "  'node_type': 'Thought',\n",
       "  'description': '',\n",
       "  'Elo': 1000.0,\n",
       "  'child_count': 1,\n",
       "  'expand_num': 0},\n",
       " {'is_terminal': False,\n",
       "  'pruned': False,\n",
       "  'finished': False,\n",
       "  'depth': 5,\n",
       "  'node_type': 'Action',\n",
       "  'description': 'get_products_in_category_for_demo_project',\n",
       "  'Elo': 1000.0,\n",
       "  'child_count': 1,\n",
       "  'expand_num': 0},\n",
       " {'is_terminal': False,\n",
       "  'pruned': False,\n",
       "  'finished': False,\n",
       "  'depth': 6,\n",
       "  'node_type': 'Action Input',\n",
       "  'description': '{\\n  \"category\": \"Technology\",\\n  \"limit\": 5,\\n  \"skip\": 0\\n}',\n",
       "  'Elo': 1000.0,\n",
       "  'observation': '{\"error\": \"\", \"response\": \"{\\'products\\': [{\\'id\\': 884312, \\'name\\': \\'Hp Laptop\\', \\'category\\': \\'Technology\\'}, {\\'id\\': 885584, \\'name\\': \\'Hp Laptop\\', \\'category\\': \\'Technology\\'}, {\\'id\\': 887146, \\'name\\': \\'Hp Laptop\\', \\'category\\': \\'Technology\\'}, {\\'id\\': 887812, \\'name\\': \\'Hp Laptop\\', \\'category\\': \\'Technology\\'}, {\\'id\\': 889186, \\'name\\': \\'Hp Laptop\\', \\'category\\': \\'Technology\\'}], \\'summary\\': {\\'count\\': 201}}\"}',\n",
       "  'observation_code': 0,\n",
       "  'child_count': 1,\n",
       "  'expand_num': 0,\n",
       "  'io_state': {}},\n",
       " {'is_terminal': False,\n",
       "  'pruned': False,\n",
       "  'finished': False,\n",
       "  'depth': 7,\n",
       "  'node_type': 'Thought',\n",
       "  'description': '',\n",
       "  'Elo': 1000.0,\n",
       "  'child_count': 1,\n",
       "  'expand_num': 0},\n",
       " {'is_terminal': False,\n",
       "  'pruned': False,\n",
       "  'finished': False,\n",
       "  'depth': 8,\n",
       "  'node_type': 'Action',\n",
       "  'description': 'get_products_in_category_for_demo_project',\n",
       "  'Elo': 1000.0,\n",
       "  'child_count': 1,\n",
       "  'expand_num': 0},\n",
       " {'is_terminal': False,\n",
       "  'pruned': False,\n",
       "  'finished': False,\n",
       "  'depth': 9,\n",
       "  'node_type': 'Action Input',\n",
       "  'description': '{\\n  \"category\": \"Technology\",\\n  \"limit\": 5,\\n  \"skip\": 0\\n}',\n",
       "  'Elo': 1000.0,\n",
       "  'observation': '{\"error\": \"\", \"response\": \"{\\'products\\': [{\\'id\\': 884312, \\'name\\': \\'Hp Laptop\\', \\'category\\': \\'Technology\\'}, {\\'id\\': 885584, \\'name\\': \\'Hp Laptop\\', \\'category\\': \\'Technology\\'}, {\\'id\\': 887146, \\'name\\': \\'Hp Laptop\\', \\'category\\': \\'Technology\\'}, {\\'id\\': 887812, \\'name\\': \\'Hp Laptop\\', \\'category\\': \\'Technology\\'}, {\\'id\\': 889186, \\'name\\': \\'Hp Laptop\\', \\'category\\': \\'Technology\\'}], \\'summary\\': {\\'count\\': 201}}\"}',\n",
       "  'observation_code': 0,\n",
       "  'child_count': 1,\n",
       "  'expand_num': 0,\n",
       "  'io_state': {}},\n",
       " {'is_terminal': False,\n",
       "  'pruned': False,\n",
       "  'finished': False,\n",
       "  'depth': 10,\n",
       "  'node_type': 'Thought',\n",
       "  'description': '',\n",
       "  'Elo': 1000.0,\n",
       "  'child_count': 1,\n",
       "  'expand_num': 0},\n",
       " {'is_terminal': False,\n",
       "  'pruned': False,\n",
       "  'finished': False,\n",
       "  'depth': 11,\n",
       "  'node_type': 'Action',\n",
       "  'description': 'get_products_in_category_for_demo_project',\n",
       "  'Elo': 1000.0,\n",
       "  'child_count': 1,\n",
       "  'expand_num': 0},\n",
       " {'is_terminal': False,\n",
       "  'pruned': True,\n",
       "  'finished': False,\n",
       "  'depth': 12,\n",
       "  'node_type': 'Action Input',\n",
       "  'description': '{\\n  \"category\": \"Technology\",\\n  \"limit\": 10,\\n  \"skip\": 0\\n}',\n",
       "  'Elo': 1000.0,\n",
       "  'observation': '{\"error\": \"\", \"response\": \"{\\'products\\': [{\\'id\\': 884312, \\'name\\': \\'Hp Laptop\\', \\'category\\': \\'Technology\\'}, {\\'id\\': 885584, \\'name\\': \\'Hp Laptop\\', \\'category\\': \\'Technology\\'}, {\\'id\\': 887146, \\'name\\': \\'Hp Laptop\\', \\'category\\': \\'Technology\\'}, {\\'id\\': 887812, \\'name\\': \\'Hp Laptop\\', \\'category\\': \\'Technology\\'}, {\\'id\\': 889186, \\'name\\': \\'Hp Laptop\\', \\'category\\': \\'Technology\\'}, {\\'id\\': 889960, \\'name\\': \\'Hp Laptop\\', \\'category\\': \\'Technology\\'}, {\\'id\\': 890652, \\'name\\': \\'Hp Laptop\\', \\'category\\': \\'Technology\\'}, {\\'id\\': 891347, \\'name\\': \\'Hp Laptop\\', \\'category\\': \\'Technology\\'}, {\\'id\\': 891732, \\'name\\': \\'dvd player\\', \\'category\\': \\'technology\\'}, {\\'id\\': 892060, \\'name\\': \\'Hp Laptop\\', \\'category\\': \\'Technology\\'}], \\'summary\\': {\\'count\\': 210}}\"}',\n",
       "  'observation_code': 0,\n",
       "  'child_count': 0,\n",
       "  'expand_num': 0,\n",
       "  'io_state': {}}]"
      ]
     },
     "execution_count": 19,
     "metadata": {},
     "output_type": "execute_result"
    }
   ],
   "source": [
    "chain.terminal_node[0].get_chain_result_from_this_node()"
   ]
  },
  {
   "cell_type": "code",
   "execution_count": 16,
   "id": "522ba918-7d59-44cd-953e-273b55fd52ca",
   "metadata": {},
   "outputs": [
    {
     "data": {
      "text/plain": [
       "['demo_project',\n",
       " 'demo_project',\n",
       " 'demo_project',\n",
       " 'demo_project',\n",
       " 'demo_project',\n",
       " 'demo_project',\n",
       " 'demo_project']"
      ]
     },
     "execution_count": 16,
     "metadata": {},
     "output_type": "execute_result"
    }
   ],
   "source": [
    "env.tool_names"
   ]
  },
  {
   "cell_type": "code",
   "execution_count": 27,
   "id": "04be56a9-4802-453b-81dd-33ec4351c27a",
   "metadata": {},
   "outputs": [
    {
     "data": {
      "text/plain": [
       "'You should use functions to help handle the real time user querys. Remember:\\n1.ALWAYS call \"Finish\" function at the end of the task. And the final answer should contain enough information to show to the user,If you can\\'t handle the task, or you find that function calls always fail(the function is not valid now), use function Finish->give_up_and_restart.\\n2.Do not use origin tool names, use only subfunctions\\' names.\\nYou have access of the following tools:\\n1.demo_project: This Project is created by the onboarding process\\n'"
      ]
     },
     "execution_count": 27,
     "metadata": {},
     "output_type": "execute_result"
    }
   ],
   "source": [
    "env.task_description"
   ]
  },
  {
   "cell_type": "code",
   "execution_count": 53,
   "id": "d09e2103-3845-4025-8bde-ac73190414d2",
   "metadata": {},
   "outputs": [
    {
     "name": "stdout",
     "output_type": "stream",
     "text": [
      "You are AutoGPT, you can use many tools(functions) to do the following task.\n",
      "First I will give you the task description, and your task start.\n",
      "At each step, you need to give your thought to analyze the status now and what to do next, with a function call to actually excute your step.\n",
      "After the call, you will get the call result, and you are now in a new state.\n",
      "Then you will analyze your status now, then decide what to do next...\n",
      "After many (Thought-call) pairs, you finally perform the task, then you can give your finial answer.\n",
      "Remember: \n",
      "1.the state change is irreversible, you can't go back to one of the former state, if you want to restart the task, say \"I give up and restart\".\n",
      "2.All the thought is short, at most in 5 sentence.\n",
      "3.You can do more then one trys, so if your plan is to continusly try some conditions, you can do one of the conditions per try.\n",
      "Let's Begin!\n",
      "Task description: You should use functions to help handle the real time user querys. Remember:\n",
      "1.ALWAYS call \"Finish\" function at the end of the task. And the final answer should contain enough information to show to the user,If you can't handle the task, or you find that function calls always fail(the function is not valid now), use function Finish->give_up_and_restart.\n",
      "2.Do not use origin tool names, use only subfunctions' names.\n",
      "You have access of the following tools:\n",
      "1.axesso_kaufland_data_service: Our Kaufland Data Service API provides real-time data about product details and keyword search result from the online shop Kaufland.de.\n",
      "\n"
     ]
    }
   ],
   "source": [
    "print(backbone_model.conversation_history[0]['content'])"
   ]
  },
  {
   "cell_type": "code",
   "execution_count": 36,
   "id": "bc89ec87-cc33-4c99-b583-9f743160bbb6",
   "metadata": {},
   "outputs": [
    {
     "data": {
      "text/plain": [
       "[['demo_project', 'This Project is created by the onboarding process'],\n",
       " ['demo_project', 'This Project is created by the onboarding process'],\n",
       " ['demo_project', 'This Project is created by the onboarding process'],\n",
       " ['demo_project', 'This Project is created by the onboarding process'],\n",
       " ['demo_project', 'This Project is created by the onboarding process'],\n",
       " ['demo_project', 'This Project is created by the onboarding process'],\n",
       " ['demo_project', 'This Project is created by the onboarding process']]"
      ]
     },
     "execution_count": 36,
     "metadata": {},
     "output_type": "execute_result"
    }
   ],
   "source": [
    "tool_des"
   ]
  },
  {
   "cell_type": "markdown",
   "id": "b8b97b95-0c32-467a-b134-0ec90b6e0dde",
   "metadata": {},
   "source": [
    "Проблема в том, что почему-то в промпте нету описания тулов с параметрами"
   ]
  },
  {
   "cell_type": "code",
   "execution_count": 26,
   "id": "7e9a37be-82c4-4eef-82a6-5bb2475a07fd",
   "metadata": {},
   "outputs": [
    {
     "data": {
      "text/plain": [
       "'\\nThought: \\nAction: Finish\\nAction Input: {\\n  \"return_type\": \"give_answer\",\\n  \"final_answer\": \"The trend analysis for Tesla\\'s stock (TSLA) indicates a P/E ratio of 16.10 and a PEG ratio of 0.71. The estimated growth rates for the next quarter, next year, and next 5 years are 7.3%, 10.2%, and 7.8% respectively.\\\\n\\\\nHere are the top 5 latest news about cryptocurrencies:\\\\n1. Pepecoin Knockoffs Turn Dollars to Fortunes in Strange New \\'2.0\\' Play - [Read More](https://www.coindesk.com/markets/2023/07/04/pepecoin-knockoffs-turn-dollars-to-fortunes-in-strange-new-20-play/?utm_medium=referral&utm_source=rss&utm_campaign=headlines)\\\\n2. Voyager Creditors Billed $5.1M for March-May by Law Firm - [Read More](https://www.coindesk.com/policy/2023/07/04/voyager-creditors-billed-51m-for-march-may-by-law-firm/?utm_medium=referral&utm_source=rss&utm_campaign=headlines)\\\\n3. Gemini\\'s Cameron Winklevoss Tweets $1.5B \\'Final Offer\\' in Debt Talks Over Crypto Firm Genesis - [Read More](https://www.coindesk.com/markets/2023/07/04/geminis-cameron-winklevoss-tweets-15b-final-offer-in-debt-talks-over-crypto-firm-genesis/)\\\\n4. Financial Action Task Force Still Won\\'t Embrace P2P Crypto Transactions - [Read More](https://www.coindesk.com/policy/2023/07/03/financial-action-task-force-still-wont-embrace-p2p-crypto-transactions/)\\\\n5. European Commission Updates Rules on Digital ID for Blockchain Projects - [Read More](https://www.coindesk.com/policy/2023/07/03/european-commission-updates-rules-on-digital-id-for-blockchain-projects/)\\\\n\\\\nHere are the latest news from CoinTelegraph:\\\\n- Here\\'s what happened in crypto today\\\\n- HK crypto ETFs on fire, Binance warns on Maverick FOMO, Poly hack: Asia Express\\\\n- Bitcoin traders torn between breakout and $28K dip as BTC price stalls\\\\n-'"
      ]
     },
     "execution_count": 26,
     "metadata": {},
     "output_type": "execute_result"
    }
   ],
   "source": [
    "with open('/data2/polyakov/instruction_tuning/ToolBench/data/toolllama_G123_dfs_train.json', 'r') as f:\n",
    "    data = json.load(f)\n",
    "data[100]['conversations'][-1]['value']"
   ]
  },
  {
   "cell_type": "markdown",
   "id": "69741655-421e-4855-a5e2-cbaf15a001a0",
   "metadata": {},
   "source": [
    "Поменял промпт. Попробую теперь позапускать. Возможно, качество станет лучше"
   ]
  },
  {
   "cell_type": "code",
   "execution_count": 10,
   "id": "fb3bce12-5825-4387-a1d1-a560398505f0",
   "metadata": {},
   "outputs": [
    {
     "name": "stdout",
     "output_type": "stream",
     "text": [
      "[single_chain]try for the 1 time\n",
      "###################################3\n",
      "PREDICTION:  Thought: \n",
      "Action: bmi_for_clinicalmarkers\n",
      "Action Input: {\n",
      "  \"heightincentrimetres\": 160,\n",
      "  \"weightinkilograms\": 50\n",
      "}\n",
      "$$$$$$$$$$$$$$$$$$$$$$$$$$$$$$$$$$$$4\n",
      "[process(0)]total tokens: 2\n",
      "Thought: \n",
      "Action: bmi_for_clinicalmarkers\n",
      "query to Health_and_Fitness-->clinicalmarkers-->bmi_for_clinicalmarkers\n",
      "Action Input: {\n",
      "  \"heightincentrimetres\": 160,\n",
      "  \"weightinkilograms\": 50\n",
      "}\n",
      "Observation: {\"error\": \"\", \"response\": \"{'bmI_Dubois': 19.5, 'bmI_Dubois_Characterisation': 'healthy BMI', 'weightInKg': 50, 'heightInCm': 160, 'references': [{'title': 'Mosteller RD. Simplified calculation of body-surface area. N Engl J Med 1987; 317:1098.', 'url': 'https://pubmed.ncbi.nlm.nih.gov/3657876/'}, {'title': 'DuBois D, DuBois EF. A formula to estimate the approximate surface area if height and weight be known. Arch Intern Med 1916; 17:863.', 'url': 'https://pubmed.ncbi.nlm.nih.gov/2520314/'}]}\"}\n",
      "###################################3\n",
      "PREDICTION:  Thought: \n",
      "Action: bsa_for_clinicalmarkers\n",
      "Action Input: {\n",
      "  \"weightinkilograms\": 50,\n",
      "  \"heightincentrimetres\": 160\n",
      "}\n",
      "$$$$$$$$$$$$$$$$$$$$$$$$$$$$$$$$$$$$4\n",
      "[process(0)]total tokens: 2\n",
      "Thought: \n",
      "Action: bsa_for_clinicalmarkers\n",
      "query to Health_and_Fitness-->clinicalmarkers-->bsa_for_clinicalmarkers\n",
      "Action Input: {\n",
      "  \"weightinkilograms\": 50,\n",
      "  \"heightincentrimetres\": 160\n",
      "}\n",
      "Observation: {\"error\": \"\", \"response\": \"{'bsA_Dubois': 5889.1, 'bsA_Mosteller': 1.5, 'weightInKg': 50, 'heightInCm': 160, 'references': [{'title': 'Mosteller RD. Simplified calculation of body-surface area. N Engl J Med 1987; 317:1098.', 'url': 'https://pubmed.ncbi.nlm.nih.gov/3657876/'}, {'title': 'DuBois D, DuBois EF. A formula to estimate the approximate surface area if height and weight be known. Arch Intern Med 1916; 17:863.', 'url': 'https://pubmed.ncbi.nlm.nih.gov/2520314/'}]}\"}\n",
      "###################################3\n",
      "PREDICTION:  Thought: \n",
      "Action: Finish\n",
      "Action: Finish\n",
      "Action Input: {\n",
      "  \"return_type\": \"give_answer\",\n",
      "  \"final_answer\": \"The BMI for a person with a height of 160 cm and a weight of 50 kg is 19.5. The BSA for this person is 5889.1.\"\n",
      "}\n",
      "$$$$$$$$$$$$$$$$$$$$$$$$$$$$$$$$$$$$4\n",
      "[process(0)]total tokens: 2\n",
      "Thought: \n",
      "Action: Finish\n",
      "Action: Finish\n",
      "Action Input: {\n",
      "  \"return_type\": \"give_answer\",\n",
      "  \"final_answer\": \"The BMI for a person with a height of 160 cm and a weight of 50 kg is 19.5. The BSA for this person is 5889.1.\"\n",
      "}\n",
      "Observation: {\"error\": \"No such function name: Finish\\nAction: Finish\", \"response\": \"\"}\n",
      "###################################3\n",
      "PREDICTION:  Thought: \n",
      "Action: Finish\n",
      "Action: Finish\n",
      "Action Input: {\n",
      "  \"return_type\": \"give_answer\",\n",
      "  \"final_answer\": \"The BMI for a person with a height of 160 cm and a weight of 50 kg is 19.5. The BSA for this person is 5889.1.\"\n",
      "}\n",
      "$$$$$$$$$$$$$$$$$$$$$$$$$$$$$$$$$$$$4\n",
      "[process(0)]total tokens: 2\n",
      "Thought: \n",
      "Action: Finish\n",
      "Action: Finish\n",
      "Action Input: {\n",
      "  \"return_type\": \"give_answer\",\n",
      "  \"final_answer\": \"The BMI for a person with a height of 160 cm and a weight of 50 kg is 19.5. The BSA for this person is 5889.1.\"\n",
      "}\n",
      "Observation: {\"error\": \"No such function name: Finish\\nAction: Finish\", \"response\": \"\"}\n"
     ]
    }
   ],
   "source": [
    "process_id = 0\n",
    "single_chain_max_step = 12\n",
    "\n",
    "for k, task in enumerate(runner.task_list[70:]):\n",
    "    method = task[0]\n",
    "    backbone_model = task[1]\n",
    "    query_id = task[2]\n",
    "    data_dict = task[3]\n",
    "    args = task[4]\n",
    "    tool_des = task[6]\n",
    "    env = rapidapi_wrapper(data_dict, tool_des, None, args, process_id=process_id)\n",
    "\n",
    "    passat = int(method.split(\"@\")[-1])\n",
    "    chain = single_chain(llm=backbone_model, io_func=env, process_id=process_id)\n",
    "    chain.start(pass_at=passat,\n",
    "                single_chain_max_step=single_chain_max_step,\n",
    "                answer=1)\n",
    "    break"
   ]
  },
  {
   "cell_type": "code",
   "execution_count": 11,
   "id": "32a79c82-6b4c-4f9e-a021-3dfa87f08f26",
   "metadata": {},
   "outputs": [
    {
     "data": {
      "text/plain": [
       "'[1, 2, 3]'"
      ]
     },
     "execution_count": 11,
     "metadata": {},
     "output_type": "execute_result"
    }
   ],
   "source": [
    "test = [1, 2, 3]\n",
    "str(test)"
   ]
  },
  {
   "cell_type": "code",
   "execution_count": 10,
   "id": "a2138730-7976-47d8-aa48-e73acd38d7b0",
   "metadata": {},
   "outputs": [
    {
     "data": {
      "text/plain": [
       "[{'role': 'system',\n",
       "  'content': 'You are AutoGPT, you can use many tools(functions) to do the following task.\\nFirst I will give you the task description, and your task start.\\nAt each step, you need to give your thought to analyze the status now and what to do next, with a function call to actually excute your step. Your output should follow this format:\\nThought:\\nAction\\nAction Input:\\n\\nAfter the call, you will get the call result, and you are now in a new state.\\nThen you will analyze your status now, then decide what to do next...\\nAfter many (Thought-call) pairs, you finally perform the task, then you can give your finial answer.\\nRemember: \\n1.the state change is irreversible, you can\\'t go back to one of the former state, if you want to restart the task, say \"I give up and restart\".\\n2.All the thought is short, at most in 5 sentence.\\n3.You can do more then one trys, so if your plan is to continusly try some conditions, you can do one of the conditions per try.\\nLet\\'s Begin!\\nTask description: You should use functions to help handle the real time user querys. Remember:\\n1.ALWAYS call \"Finish\" function at the end of the task. And the final answer should contain enough information to show to the user,If you can\\'t handle the task, or you find that function calls always fail(the function is not valid now), use function Finish->give_up_and_restart.\\n2.Do not use origin tool names, use only subfunctions\\' names.\\nYou have access of the following tools:\\n1.lowest_bins_api: Hypixel Lowest bins api\\n\\n\\nSpecifically, you have access to the following APIs: [{\\'name\\': \\'info_endpoint_for_lowest_bins_api\\', \\'description\\': \\'This is the subfunction for tool \"lowest_bins_api\", you can use this tool.The description of this function is: \"Info about things\"\\', \\'parameters\\': {\\'type\\': \\'object\\', \\'properties\\': {}, \\'required\\': [], \\'optional\\': []}}, {\\'name\\': \\'fetch_lowest_bins_for_lowest_bins_api\\', \\'description\\': \\'This is the subfunction for tool \"lowest_bins_api\", you can use this tool.The description of this function is: \"This endpoint lets you fetch the lowest bins\"\\', \\'parameters\\': {\\'type\\': \\'object\\', \\'properties\\': {}, \\'required\\': [], \\'optional\\': []}}, {\\'name\\': \\'Finish\\', \\'description\\': \\'If you believe that you have obtained a result that can answer the task, please call this function to provide the final answer. Alternatively, if you recognize that you are unable to proceed with the task in the current state, call this function to restart. Remember: you must ALWAYS call this function at the end of your attempt, and the only part that will be shown to the user is the final answer, so it should contain sufficient information.\\', \\'parameters\\': {\\'type\\': \\'object\\', \\'properties\\': {\\'return_type\\': {\\'type\\': \\'string\\', \\'enum\\': [\\'give_answer\\', \\'give_up_and_restart\\']}, \\'final_answer\\': {\\'type\\': \\'string\\', \\'description\\': \\'The final answer you want to give the user. You should have this field if \"return_type\"==\"give_answer\"\\'}}, \\'required\\': [\\'return_type\\']}}]'},\n",
       " {'role': 'user',\n",
       "  'content': '\\nI am a food lover and I want to find the lowest prices for groceries, ingredients, and cooking utensils. Can you provide me with the lowest bins for these food-related items? Also, include information on how often the prices are updated.\\nBegin!\\n'},\n",
       " {'role': 'assistant',\n",
       "  'content': '',\n",
       "  'function_call': {'name': 'info_endpoint_for_lowest_bins_api',\n",
       "   'arguments': '{}'}},\n",
       " {'role': 'function',\n",
       "  'name': 'info_endpoint_for_lowest_bins_api',\n",
       "  'content': '{\"error\": \"\", \"response\": \"{\\'endpoint\\': \\'/lowestbins\\', \\'funding\\': \\'https://github.com/sponsors/Tricked-dev\\', \\'message\\': \\'Welcome to the lowestbins API\\', \\'source\\': \\'https://github.com/Tricked-dev/lowestbins\\', \\'updates_in\\': 5}\"}'},\n",
       " {'role': 'assistant',\n",
       "  'content': '',\n",
       "  'function_call': {'name': 'fetch_lowest_bins_for_lowest_bins_api',\n",
       "   'arguments': '{}'}},\n",
       " {'role': 'function',\n",
       "  'name': 'fetch_lowest_bins_for_lowest_bins_api',\n",
       "  'content': '{\"error\": \"\", \"response\": \"{\\\\\"ABICASE\\\\\":16900000,\\\\\"ABIPHONE_XIII_PRO\\\\\":24500000,\\\\\"ABIPHONE_XIII_PRO_GIGA\\\\\":45000000,\\\\\"ABIPHONE_XII_MEGA\\\\\":10000000,\\\\\"ABIPHONE_XII_MEGA_COLOR\\\\\":14999999,\\\\\"ABIPHONE_XIV_ENORMOUS\\\\\":87000000,\\\\\"ABIPHONE_XIV_ENORMOUS_BLACK\\\\\":90000000,\\\\\"ABIPHONE_XIV_ENORMOUS_PURPLE\\\\\":90000000,\\\\\"ABIPHONE_XI_ULTRA\\\\\":1200000,\\\\\"ABIPHONE_XI_ULTRA_STYLE\\\\\":6000000,\\\\\"ABIPHONE_X_PLUS\\\\\":1000000,\\\\\"ABIPHONE_X_PLUS_SPECIAL_EDITION\\\\\":2000000,\\\\\"ABSOLUTE_ENDER_PEARL\\\\\":12889,\\\\\"ACACIA_BIRDHOUSE\\\\\":810105,\\\\\"ACACIA_DOOR_ITEM\\\\\":5,\\\\\"ACACIA_FENCE\\\\\":5,\\\\\"ACACIA_FENCE_GATE\\\\\":5,\\\\\"ACACIA_STAIRS\\\\\":2,\\\\\"ACTIVATOR_RAIL\\\\\":2,\\\\\"ADAPTIVE_BOOTS\\\\\":300000,\\\\\"ADAPTIVE_CHESTPLATE\\\\\":3800000,\\\\\"ADAPTIVE_HELMET\\\\\":2000000,\\\\\"ADAPTIVE_LEGGINGS\\\\\":600000,\\\\\"ADVANCED_GARDENING_AXE\\\\\":140000,\\\\\"ADVANCED_GARDENING_HOE\\\\\":173000,\\\\\"ADVENT_CALENDAR_DISPLAY\\\\\":45000,\\\\\"AGARICUS_CHUM_CAP\\\\\":46874,\\\\\"AGARIMOO_ARTIFACT\\\\\":37000000,\\\\\"AGARIMOO_RING\\\\\":5990000,\\\\\"AGARIMOO_TALISMAN\\\\\":599000,\\\\\"AGARIMOO_TONGUE\\\\\":53932,\\\\\"AIMING_BOW\\\\\":340,\\\\\"ALERT_FLARE\\\\\":790000000,\\\\\"ALL_SKILLS_SUP...'},\n",
       " {'role': 'assistant',\n",
       "  'content': '',\n",
       "  'function_call': {'name': 'info_endpoint_for_lowest_bins_api',\n",
       "   'arguments': '{}'}},\n",
       " {'role': 'function',\n",
       "  'name': 'info_endpoint_for_lowest_bins_api',\n",
       "  'content': '{\"error\": \"\", \"response\": \"{\\'endpoint\\': \\'/lowestbins\\', \\'funding\\': \\'https://github.com/sponsors/Tricked-dev\\', \\'message\\': \\'Welcome to the lowestbins API\\', \\'source\\': \\'https://github.com/Tricked-dev/lowestbins\\', \\'updates_in\\': 5}\"}'}]"
      ]
     },
     "execution_count": 10,
     "metadata": {},
     "output_type": "execute_result"
    }
   ],
   "source": [
    "backbone_model.conversation_history"
   ]
  },
  {
   "cell_type": "code",
   "execution_count": null,
   "id": "ba5552c1-5e15-4fb3-9c74-012f1b4a624a",
   "metadata": {},
   "outputs": [],
   "source": []
  }
 ],
 "metadata": {
  "kernelspec": {
   "display_name": "Python 3 (ipykernel)",
   "language": "python",
   "name": "python3"
  },
  "language_info": {
   "codemirror_mode": {
    "name": "ipython",
    "version": 3
   },
   "file_extension": ".py",
   "mimetype": "text/x-python",
   "name": "python",
   "nbconvert_exporter": "python",
   "pygments_lexer": "ipython3",
   "version": "3.10.11"
  }
 },
 "nbformat": 4,
 "nbformat_minor": 5
}
