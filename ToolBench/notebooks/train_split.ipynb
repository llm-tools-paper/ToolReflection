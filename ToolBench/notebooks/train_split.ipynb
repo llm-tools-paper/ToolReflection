{
 "cells": [
  {
   "cell_type": "code",
   "execution_count": 103,
   "metadata": {},
   "outputs": [],
   "source": [
    "import json\n",
    "import yaml\n",
    "from tqdm.notebook import tqdm\n",
    "from sklearn.model_selection import train_test_split\n",
    "from copy import deepcopy\n",
    "import random\n",
    "random.seed(0)"
   ]
  },
  {
   "cell_type": "code",
   "execution_count": 60,
   "metadata": {},
   "outputs": [],
   "source": [
    "train_data_original = json.load(open('/data4/polyakov/instruction_tuning/ToolBench/data/toolbench_new_1311/cleaned_toolllama_G123_dfs_train_downloaded1311_no_undetectable_errors_final.json', 'r'))"
   ]
  },
  {
   "cell_type": "code",
   "execution_count": 61,
   "metadata": {},
   "outputs": [
    {
     "data": {
      "text/plain": [
       "{'id': 'Step 7: Can you provide me with a random Chuck Norris joke? I also want to know a fascinating mathematical property about the number 1729. Please find something interesting about it.',\n",
       " 'conversations': [{'from': 'system',\n",
       "   'value': 'You are AutoGPT, you can use many tools(functions) to do the following task.\\nFirst I will give you the task description, and your task start.\\nAt each step, you need to give your thought to analyze the status now and what to do next, with a function call to actually excute your step. Your output should follow this format:\\nThought:\\nAction\\nAction Input:\\n\\nAfter the call, you will get the call result, and you are now in a new state.\\nThen you will analyze your status now, then decide what to do next...\\nAfter many (Thought-call) pairs, you finally perform the task, then you can give your finial answer.\\nRemember: \\n1.the state change is irreversible, you can\\'t go back to one of the former state, if you want to restart the task, say \"I give up and restart\".\\n2.All the thought is short, at most in 5 sentence.\\n3.You can do more then one trys, so if your plan is to continusly try some conditions, you can do one of the conditions per try.\\nLet\\'s Begin!\\nTask description: You should use functions to help handle the real time user querys. Remember:\\n1.ALWAYS call \"Finish\" function at the end of the task. And the final answer should contain enough information to show to the user,If you can\\'t handle the task, or you find that function calls always fail(the function is not valid now), use function Finish->give_up_and_restart.\\n2.Do not use origin tool names, use only subfunctions\\' names.\\nYou have access of the following tools:\\n1.chuck_norris: chucknorris.io is a free JSON API for hand curated Chuck Norris facts.\\n2.numbers: An API for interesting facts about numbers. Provides trivia, math, date, and year facts about numbers. \\r\\rFor example, \"5 is the number of platonic solids\", \"42 is the number of little squares forming the left side trail of Microsoft\\'s Windows 98 logo\", \"February 27th is the day in 1964 that the government of Italy asks for help to keep the Leaning Tower of Pisa from toppling over\"\\n3.tronald_dump: Api & web archive for the dumbest things Donald Trump has ever said.\\n4.superhero_search: An API to get information about superheroes.\\n\\nSpecifically, you have access to the following APIs: [{\\'name\\': \\'jokes_search_for_chuck_norris\\', \\'description\\': \\'This is the subfunction for tool \"chuck_norris\", you can use this tool.The description of this function is: \"Free text search\"\\', \\'parameters\\': {\\'type\\': \\'object\\', \\'properties\\': {\\'query\\': {\\'type\\': \\'string\\', \\'description\\': \\'The search term.\\'}}, \\'required\\': [\\'query\\'], \\'optional\\': []}}, {\\'name\\': \\'jokes_random_for_chuck_norris\\', \\'description\\': \\'This is the subfunction for tool \"chuck_norris\", you can use this tool.The description of this function is: \"Retrieve a random chuck joke in JSON format.\"\\', \\'parameters\\': {\\'type\\': \\'object\\', \\'properties\\': {}, \\'required\\': [], \\'optional\\': []}}, {\\'name\\': \\'jokes_categories_for_chuck_norris\\', \\'description\\': \\'This is the subfunction for tool \"chuck_norris\", you can use this tool.The description of this function is: \"Retrieve a list of available joke categories.\"\\', \\'parameters\\': {\\'type\\': \\'object\\', \\'properties\\': {}, \\'required\\': [], \\'optional\\': []}}, {\\'name\\': \\'get_date_fact_for_numbers\\', \\'description\\': \\'This is the subfunction for tool \"numbers\", you can use this tool.The description of this function is: \"Get a fact about a day of year\"\\', \\'parameters\\': {\\'type\\': \\'object\\', \\'properties\\': {\\'month\\': {\\'type\\': \\'string\\', \\'description\\': \\'The 1-indexed month (eg. 6 for June)\\', \\'example_value\\': \\'6\\'}, \\'day\\': {\\'type\\': \\'string\\', \\'description\\': \\'The day of the month\\', \\'example_value\\': \\'21\\'}, \\'fragment\\': {\\'type\\': \\'string\\', \\'description\\': \\'Add \"?fragment=true\" to return the fact as a sentence fragment that can be easily included as part of a larger sentence. This means that the first word is lowercase and ending punctuation is omitted. For trivia and math, a noun phrase is returned that can \\', \\'example_value\\': True}, \\'json\\': {\\'type\\': \\'string\\', \\'description\\': \\'Specify \"true\" to return result as JSON instead of plaintext.\\', \\'example_value\\': True}}, \\'required\\': [\\'month\\', \\'day\\'], \\'optional\\': [\\'fragment\\', \\'json\\']}}, {\\'name\\': \\'get_year_fact_for_numbers\\', \\'description\\': \\'This is the subfunction for tool \"numbers\", you can use this tool.The description of this function is: \"Get a fact about a year\"\\', \\'parameters\\': {\\'type\\': \\'object\\', \\'properties\\': {\\'year\\': {\\'type\\': \\'string\\', \\'description\\': \\'The year of interest\\', \\'example_value\\': \\'1492\\'}, \\'fragment\\': {\\'type\\': \\'string\\', \\'description\\': \\'Add \"?fragment=true\" to return the fact as a sentence fragment that can be easily included as part of a larger sentence. This means that the first word is lowercase and ending punctuation is omitted. For trivia and math, a noun phrase is returned that can \\', \\'example_value\\': True}, \\'json\\': {\\'type\\': \\'string\\', \\'description\\': \\'Specify \"true\" to return result as JSON instead of plaintext.\\', \\'example_value\\': True}}, \\'required\\': [\\'year\\'], \\'optional\\': [\\'fragment\\', \\'json\\']}}, {\\'name\\': \\'get_math_fact_for_numbers\\', \\'description\\': \\'This is the subfunction for tool \"numbers\", you can use this tool.The description of this function is: \"Get a mathematical property about a number\"\\', \\'parameters\\': {\\'type\\': \\'object\\', \\'properties\\': {\\'number\\': {\\'type\\': \\'string\\', \\'description\\': \\'The integer of interest\\', \\'example_value\\': \\'1729\\'}, \\'fragment\\': {\\'type\\': \\'string\\', \\'description\\': \\'Add \"?fragment=true\" to return the fact as a sentence fragment that can be easily included as part of a larger sentence. This means that the first word is lowercase and ending punctuation is omitted. For trivia and math, a noun phrase is returned that can \\', \\'example_value\\': True}, \\'json\\': {\\'type\\': \\'string\\', \\'description\\': \\'Specify \"true\" to return result as JSON instead of plaintext.\\', \\'example_value\\': True}}, \\'required\\': [\\'number\\'], \\'optional\\': [\\'fragment\\', \\'json\\']}}, {\\'name\\': \\'tag_for_tronald_dump\\', \\'description\\': \\'This is the subfunction for tool \"tronald_dump\", you can use this tool.The description of this function is: \"Retrieve a list of available tags\"\\', \\'parameters\\': {\\'type\\': \\'object\\', \\'properties\\': {}, \\'required\\': [], \\'optional\\': []}}, {\\'name\\': \\'random_quote_for_tronald_dump\\', \\'description\\': \\'This is the subfunction for tool \"tronald_dump\", you can use this tool.The description of this function is: \"Retrieve a random quote.\"\\', \\'parameters\\': {\\'type\\': \\'object\\', \\'properties\\': {}, \\'required\\': [], \\'optional\\': []}}, {\\'name\\': \\'tag_tag_for_tronald_dump\\', \\'description\\': \\'This is the subfunction for tool \"tronald_dump\", you can use this tool.The description of this function is: \"Retrieve a quotes by a given tag.\"\\', \\'parameters\\': {\\'type\\': \\'object\\', \\'properties\\': {\\'tag\\': {\\'type\\': \\'string\\', \\'description\\': \\'\\'}}, \\'required\\': [\\'tag\\'], \\'optional\\': []}}, {\\'name\\': \\'villains_for_superhero_search\\', \\'description\\': \\'This is the subfunction for tool \"superhero_search\", you can use this tool.The description of this function is: \"Return 20 random villains_for_superhero_search\"\\', \\'parameters\\': {\\'type\\': \\'object\\', \\'properties\\': {}, \\'required\\': [], \\'optional\\': []}}, {\\'name\\': \\'search_for_superhero_search\\', \\'description\\': \\'This is the subfunction for tool \"superhero_search\", you can use this tool.The description of this function is: \"This endpoint searches through our superhero database\"\\', \\'parameters\\': {\\'type\\': \\'object\\', \\'properties\\': {}, \\'required\\': [], \\'optional\\': []}}, {\\'name\\': \\'heroes_for_superhero_search\\', \\'description\\': \\'This is the subfunction for tool \"superhero_search\", you can use this tool.The description of this function is: \"Return a list of 20 random heroes\"\\', \\'parameters\\': {\\'type\\': \\'object\\', \\'properties\\': {}, \\'required\\': [], \\'optional\\': []}}, {\\'name\\': \\'Finish\\', \\'description\\': \\'If you believe that you have obtained a result that can answer the task, please call this function to provide the final answer. Alternatively, if you recognize that you are unable to proceed with the task in the current state, call this function to restart. Remember: you must ALWAYS call this function at the end of your attempt, and the only part that will be shown to the user is the final answer, so it should contain sufficient information.\\', \\'parameters\\': {\\'type\\': \\'object\\', \\'properties\\': {\\'return_type\\': {\\'type\\': \\'string\\', \\'enum\\': [\\'give_answer\\', \\'give_up_and_restart\\']}, \\'final_answer\\': {\\'type\\': \\'string\\', \\'description\\': \\'The final answer you want to give the user. You should have this field if \"return_type\"==\"give_answer\"\\'}}, \\'required\\': [\\'return_type\\']}}]'},\n",
       "  {'from': 'user',\n",
       "   'value': '\\nCan you provide me with a random Chuck Norris joke? I also want to know a fascinating mathematical property about the number 1729. Please find something interesting about it.\\nBegin!\\n'},\n",
       "  {'from': 'assistant',\n",
       "   'value': \"\\nThought: I am calling the Chuck Norris API to generate a random joke about Chuck Norris in response to the user's request. This will provide an amusing and entertaining response for the user.\\nAction: jokes_random_for_chuck_norris\\nAction Input: {}\"},\n",
       "  {'from': 'function',\n",
       "   'value': '{\"error\": \"\", \"response\": \"{\\\\\"categories\\\\\":[],\\\\\"created_at\\\\\":\\\\\"2020-01-05 13:42:28.143137\\\\\",\\\\\"icon_url\\\\\":\\\\\"https://assets.chucknorris.host/img/avatar/chuck-norris.png\\\\\",\\\\\"id\\\\\":\\\\\"w1QcOOGdStm9Wz27-AKCIw\\\\\",\\\\\"updated_at\\\\\":\\\\\"2020-01-05 13:42:28.143137\\\\\",\\\\\"url\\\\\":\\\\\"https://api.chucknorris.io/jokes/w1QcOOGdStm9Wz27-AKCIw\\\\\",\\\\\"value\\\\\":\\\\\"Chuck Norris doesn\\'t clip his fingernails... he rips them out with his bare hands and regrows new ones immediately.\\\\\"}\"}'},\n",
       "  {'from': 'assistant',\n",
       "   'value': '\\nThought: I am calling the \\'get_math_fact_for_numbers\\' API with the argument {\\'number\\': \\'1729\\'}. This API call is made to provide the user with a fascinating mathematical property about the number 1729. By retrieving this information, I can fulfill the user\\'s request for an interesting fact about the number.\\nAction: get_math_fact_for_numbers\\nAction Input: {\\n  \"number\": \"1729\"\\n}'},\n",
       "  {'from': 'function',\n",
       "   'value': '{\"error\": \"\", \"response\": \"{\\'text\\': \\'the smallest natural number representable in two different ways as a sum of two positive cubes, as Ramanujan stated on the spot\\', \\'number\\': 1729, \\'found\\': True, \\'type\\': \\'math\\'}\"}'},\n",
       "  {'from': 'assistant',\n",
       "   'value': '\\nThought: Here\\'s a random Chuck Norris joke for you: \"Chuck Norris doesn\\'t clip his fingernails... he rips them out with his bare hands and regrows new ones immediately.\"\\n\\nAn interesting mathematical property about the number 1729 is that it is the smallest natural number representable in two different ways as a sum of two positive cubes, as Ramanujan stated on the spot.\\nAction: Finish\\nAction Input: {\\n  \"return_type\": \"give_answer\",\\n  \"final_answer\": \"Here\\'s a random Chuck Norris joke for you: \\'Chuck Norris doesn\\'t clip his fingernails... he rips them out with his bare hands and regrows new ones immediately.\\'\\\\n\\\\nAn interesting mathematical property about the number 1729 is that it is the smallest natural number representable in two different ways as a sum of two positive cubes, as Ramanujan stated on the spot.\"\\n}'}]}"
      ]
     },
     "execution_count": 61,
     "metadata": {},
     "output_type": "execute_result"
    }
   ],
   "source": [
    "train_data_original[0]"
   ]
  },
  {
   "cell_type": "code",
   "execution_count": 62,
   "metadata": {},
   "outputs": [],
   "source": [
    "def get_tool_set(item):\n",
    "    tool_system_msg = \"You have access of the following tools:\\n\"\n",
    "    api_system_msg = \"\\nSpecifically, you have access to the following APIs: \"\n",
    "\n",
    "    system_step = item['conversations'][0]['value']\n",
    "\n",
    "    tool_descriptions = system_step.split(tool_system_msg)[1].split(api_system_msg)[0]\n",
    "    tools = system_step.split(api_system_msg)[1]\n",
    "\n",
    "    try:\n",
    "        tools = yaml.load(tools, yaml.Loader)\n",
    "        return tools\n",
    "    except Exception as e:\n",
    "        return []"
   ]
  },
  {
   "cell_type": "code",
   "execution_count": 63,
   "metadata": {},
   "outputs": [
    {
     "data": {
      "application/vnd.jupyter.widget-view+json": {
       "model_id": "fb07dfea3e9243aba3006646407e7765",
       "version_major": 2,
       "version_minor": 0
      },
      "text/plain": [
       "  0%|          | 0/12482 [00:00<?, ?it/s]"
      ]
     },
     "metadata": {},
     "output_type": "display_data"
    }
   ],
   "source": [
    "train_data_parseble_tools = []\n",
    "for item in tqdm(train_data_original):\n",
    "    tools = get_tool_set(item)\n",
    "    if tools:\n",
    "        item_parseble_tools = deepcopy(item)\n",
    "        item_parseble_tools['tools'] = tools\n",
    "        train_data_parseble_tools.append(item_parseble_tools)"
   ]
  },
  {
   "cell_type": "code",
   "execution_count": 64,
   "metadata": {},
   "outputs": [
    {
     "data": {
      "text/plain": [
       "11038"
      ]
     },
     "execution_count": 64,
     "metadata": {},
     "output_type": "execute_result"
    }
   ],
   "source": [
    "len(train_data_parseble_tools)"
   ]
  },
  {
   "cell_type": "code",
   "execution_count": 65,
   "metadata": {},
   "outputs": [
    {
     "data": {
      "text/plain": [
       "[{'name': 'jokes_search_for_chuck_norris',\n",
       "  'description': 'This is the subfunction for tool \"chuck_norris\", you can use this tool.The description of this function is: \"Free text search\"',\n",
       "  'parameters': {'type': 'object',\n",
       "   'properties': {'query': {'type': 'string',\n",
       "     'description': 'The search term.'}},\n",
       "   'required': ['query'],\n",
       "   'optional': []}},\n",
       " {'name': 'jokes_random_for_chuck_norris',\n",
       "  'description': 'This is the subfunction for tool \"chuck_norris\", you can use this tool.The description of this function is: \"Retrieve a random chuck joke in JSON format.\"',\n",
       "  'parameters': {'type': 'object',\n",
       "   'properties': {},\n",
       "   'required': [],\n",
       "   'optional': []}},\n",
       " {'name': 'jokes_categories_for_chuck_norris',\n",
       "  'description': 'This is the subfunction for tool \"chuck_norris\", you can use this tool.The description of this function is: \"Retrieve a list of available joke categories.\"',\n",
       "  'parameters': {'type': 'object',\n",
       "   'properties': {},\n",
       "   'required': [],\n",
       "   'optional': []}},\n",
       " {'name': 'get_date_fact_for_numbers',\n",
       "  'description': 'This is the subfunction for tool \"numbers\", you can use this tool.The description of this function is: \"Get a fact about a day of year\"',\n",
       "  'parameters': {'type': 'object',\n",
       "   'properties': {'month': {'type': 'string',\n",
       "     'description': 'The 1-indexed month (eg. 6 for June)',\n",
       "     'example_value': '6'},\n",
       "    'day': {'type': 'string',\n",
       "     'description': 'The day of the month',\n",
       "     'example_value': '21'},\n",
       "    'fragment': {'type': 'string',\n",
       "     'description': 'Add \"?fragment=true\" to return the fact as a sentence fragment that can be easily included as part of a larger sentence. This means that the first word is lowercase and ending punctuation is omitted. For trivia and math, a noun phrase is returned that can ',\n",
       "     'example_value': True},\n",
       "    'json': {'type': 'string',\n",
       "     'description': 'Specify \"true\" to return result as JSON instead of plaintext.',\n",
       "     'example_value': True}},\n",
       "   'required': ['month', 'day'],\n",
       "   'optional': ['fragment', 'json']}},\n",
       " {'name': 'get_year_fact_for_numbers',\n",
       "  'description': 'This is the subfunction for tool \"numbers\", you can use this tool.The description of this function is: \"Get a fact about a year\"',\n",
       "  'parameters': {'type': 'object',\n",
       "   'properties': {'year': {'type': 'string',\n",
       "     'description': 'The year of interest',\n",
       "     'example_value': '1492'},\n",
       "    'fragment': {'type': 'string',\n",
       "     'description': 'Add \"?fragment=true\" to return the fact as a sentence fragment that can be easily included as part of a larger sentence. This means that the first word is lowercase and ending punctuation is omitted. For trivia and math, a noun phrase is returned that can ',\n",
       "     'example_value': True},\n",
       "    'json': {'type': 'string',\n",
       "     'description': 'Specify \"true\" to return result as JSON instead of plaintext.',\n",
       "     'example_value': True}},\n",
       "   'required': ['year'],\n",
       "   'optional': ['fragment', 'json']}},\n",
       " {'name': 'get_math_fact_for_numbers',\n",
       "  'description': 'This is the subfunction for tool \"numbers\", you can use this tool.The description of this function is: \"Get a mathematical property about a number\"',\n",
       "  'parameters': {'type': 'object',\n",
       "   'properties': {'number': {'type': 'string',\n",
       "     'description': 'The integer of interest',\n",
       "     'example_value': '1729'},\n",
       "    'fragment': {'type': 'string',\n",
       "     'description': 'Add \"?fragment=true\" to return the fact as a sentence fragment that can be easily included as part of a larger sentence. This means that the first word is lowercase and ending punctuation is omitted. For trivia and math, a noun phrase is returned that can ',\n",
       "     'example_value': True},\n",
       "    'json': {'type': 'string',\n",
       "     'description': 'Specify \"true\" to return result as JSON instead of plaintext.',\n",
       "     'example_value': True}},\n",
       "   'required': ['number'],\n",
       "   'optional': ['fragment', 'json']}},\n",
       " {'name': 'tag_for_tronald_dump',\n",
       "  'description': 'This is the subfunction for tool \"tronald_dump\", you can use this tool.The description of this function is: \"Retrieve a list of available tags\"',\n",
       "  'parameters': {'type': 'object',\n",
       "   'properties': {},\n",
       "   'required': [],\n",
       "   'optional': []}},\n",
       " {'name': 'random_quote_for_tronald_dump',\n",
       "  'description': 'This is the subfunction for tool \"tronald_dump\", you can use this tool.The description of this function is: \"Retrieve a random quote.\"',\n",
       "  'parameters': {'type': 'object',\n",
       "   'properties': {},\n",
       "   'required': [],\n",
       "   'optional': []}},\n",
       " {'name': 'tag_tag_for_tronald_dump',\n",
       "  'description': 'This is the subfunction for tool \"tronald_dump\", you can use this tool.The description of this function is: \"Retrieve a quotes by a given tag.\"',\n",
       "  'parameters': {'type': 'object',\n",
       "   'properties': {'tag': {'type': 'string', 'description': ''}},\n",
       "   'required': ['tag'],\n",
       "   'optional': []}},\n",
       " {'name': 'villains_for_superhero_search',\n",
       "  'description': 'This is the subfunction for tool \"superhero_search\", you can use this tool.The description of this function is: \"Return 20 random villains_for_superhero_search\"',\n",
       "  'parameters': {'type': 'object',\n",
       "   'properties': {},\n",
       "   'required': [],\n",
       "   'optional': []}},\n",
       " {'name': 'search_for_superhero_search',\n",
       "  'description': 'This is the subfunction for tool \"superhero_search\", you can use this tool.The description of this function is: \"This endpoint searches through our superhero database\"',\n",
       "  'parameters': {'type': 'object',\n",
       "   'properties': {},\n",
       "   'required': [],\n",
       "   'optional': []}},\n",
       " {'name': 'heroes_for_superhero_search',\n",
       "  'description': 'This is the subfunction for tool \"superhero_search\", you can use this tool.The description of this function is: \"Return a list of 20 random heroes\"',\n",
       "  'parameters': {'type': 'object',\n",
       "   'properties': {},\n",
       "   'required': [],\n",
       "   'optional': []}},\n",
       " {'name': 'Finish',\n",
       "  'description': 'If you believe that you have obtained a result that can answer the task, please call this function to provide the final answer. Alternatively, if you recognize that you are unable to proceed with the task in the current state, call this function to restart. Remember: you must ALWAYS call this function at the end of your attempt, and the only part that will be shown to the user is the final answer, so it should contain sufficient information.',\n",
       "  'parameters': {'type': 'object',\n",
       "   'properties': {'return_type': {'type': 'string',\n",
       "     'enum': ['give_answer', 'give_up_and_restart']},\n",
       "    'final_answer': {'type': 'string',\n",
       "     'description': 'The final answer you want to give the user. You should have this field if \"return_type\"==\"give_answer\"'}},\n",
       "   'required': ['return_type']}}]"
      ]
     },
     "execution_count": 65,
     "metadata": {},
     "output_type": "execute_result"
    }
   ],
   "source": [
    "get_tool_set(train_data_original[0])"
   ]
  },
  {
   "cell_type": "code",
   "execution_count": 66,
   "metadata": {},
   "outputs": [
    {
     "data": {
      "application/vnd.jupyter.widget-view+json": {
       "model_id": "bef0bbd30aed42e5b272c366f0e939c8",
       "version_major": 2,
       "version_minor": 0
      },
      "text/plain": [
       "  0%|          | 0/11038 [00:00<?, ?it/s]"
      ]
     },
     "metadata": {},
     "output_type": "display_data"
    }
   ],
   "source": [
    "all_apis = set()\n",
    "all_tools = set()\n",
    "for item in tqdm(train_data_parseble_tools):\n",
    "    curr_tools = item['tools']\n",
    "    for tool in curr_tools:\n",
    "        tool_name = tool['name']\n",
    "        if 'for' in tool_name:\n",
    "            all_tools.add(tool_name.split('_for_')[1])\n",
    "        else:\n",
    "            all_tools.add(tool_name)\n",
    "        all_apis.add(tool['name'])"
   ]
  },
  {
   "cell_type": "code",
   "execution_count": 104,
   "metadata": {},
   "outputs": [],
   "source": [
    "def get_tool_names(item):\n",
    "    tools = item['tools']\n",
    "    tool_names = set()\n",
    "    for tool in tools:\n",
    "        tool_name = tool['name']\n",
    "        if 'for' in tool_name:\n",
    "            tool_names.add(tool_name.split('_for_')[1])\n",
    "        else:\n",
    "            tool_names.add(tool_name)\n",
    "    return tool_names"
   ]
  },
  {
   "cell_type": "code",
   "execution_count": 112,
   "metadata": {},
   "outputs": [
    {
     "name": "stdout",
     "output_type": "stream",
     "text": [
      "1398 933\n"
     ]
    },
    {
     "data": {
      "application/vnd.jupyter.widget-view+json": {
       "model_id": "7d53fb039f7a400a8430283c5b5a62c5",
       "version_major": 2,
       "version_minor": 0
      },
      "text/plain": [
       "  0%|          | 0/11038 [00:00<?, ?it/s]"
      ]
     },
     "metadata": {},
     "output_type": "display_data"
    },
    {
     "name": "stdout",
     "output_type": "stream",
     "text": [
      "1629 702\n"
     ]
    }
   ],
   "source": [
    "train_tools, val_tools = train_test_split(list(all_tools), test_size=0.4)\n",
    "train_tools = set(train_tools)\n",
    "val_tools = set(val_tools)\n",
    "if 'Finish' in val_tools:\n",
    "    val_tools.remove('Finish')\n",
    "    train_tools.add('Finish')\n",
    "print(len(train_tools), len(val_tools))\n",
    "\n",
    "intersection_count = 0\n",
    "for item in tqdm(train_data_parseble_tools):\n",
    "    tools = get_tool_names(item)\n",
    "    tools.remove('Finish')\n",
    "    tools_from_train = tools.intersection(train_tools)\n",
    "    tools_from_val = tools.intersection(val_tools)\n",
    "    if tools_from_train and tools_from_val:\n",
    "        rand = random.uniform(0,1)\n",
    "        if rand >= 0.4:\n",
    "            for tool in tools_from_val:\n",
    "                val_tools.remove(tool)\n",
    "                train_tools.add(tool)\n",
    "        else:\n",
    "            for tool in tools_from_train:\n",
    "                train_tools.remove(tool)\n",
    "                val_tools.add(tool)\n",
    "\n",
    "print(len(train_tools), len(val_tools))"
   ]
  },
  {
   "cell_type": "code",
   "execution_count": 115,
   "metadata": {},
   "outputs": [
    {
     "data": {
      "application/vnd.jupyter.widget-view+json": {
       "model_id": "3fb4896c38f24985b90a81652a27d8cd",
       "version_major": 2,
       "version_minor": 0
      },
      "text/plain": [
       "  0%|          | 0/11038 [00:00<?, ?it/s]"
      ]
     },
     "metadata": {},
     "output_type": "display_data"
    },
    {
     "name": "stdout",
     "output_type": "stream",
     "text": [
      "8860 3276 1098\n",
      "7762\n",
      "3276\n"
     ]
    }
   ],
   "source": [
    "intersection_count = 0\n",
    "train_count = 0\n",
    "val_count = 0\n",
    "\n",
    "train_sample = []\n",
    "val_sample = []\n",
    "for item in tqdm(train_data_parseble_tools):\n",
    "    tools = get_tool_names(item)\n",
    "    tools.remove('Finish')\n",
    "    tools_from_train = tools.intersection(train_tools)\n",
    "    tools_from_val = tools.intersection(val_tools)\n",
    "    if tools_from_train:\n",
    "        train_count += 1\n",
    "    if tools_from_val:\n",
    "        val_count += 1\n",
    "    if tools_from_train and tools_from_val:\n",
    "        intersection_count += 1\n",
    "\n",
    "    if tools_from_train and not tools_from_val:\n",
    "        train_sample.append(item)\n",
    "    else:\n",
    "        val_sample.append(item)\n",
    "        \n",
    "print(train_count, val_count, intersection_count)\n",
    "print(len(train_sample))\n",
    "print(len(val_sample))"
   ]
  },
  {
   "cell_type": "code",
   "execution_count": 128,
   "metadata": {},
   "outputs": [
    {
     "name": "stdout",
     "output_type": "stream",
     "text": [
      "12482\n",
      "11038\n",
      "7762\n",
      "3276\n",
      "11038\n"
     ]
    }
   ],
   "source": [
    "print(len(train_data_original))\n",
    "print(len(train_data_parseble_tools))\n",
    "print(len(train_sample))\n",
    "print(len(val_sample))\n",
    "print(len(train_sample) + len(val_sample))"
   ]
  },
  {
   "cell_type": "code",
   "execution_count": 118,
   "metadata": {},
   "outputs": [],
   "source": [
    "def split_data_last_tool_call(data):\n",
    "    data_splitted = []\n",
    "    for item in data:\n",
    "        conversations = item['conversations']\n",
    "        for i in range(len(conversations)):\n",
    "            if conversations[i]['from'] == 'assistant':\n",
    "                splitted_item = deepcopy(item)\n",
    "                splitted_item['conversations'] = splitted_item['conversations'][:i+1]\n",
    "                data_splitted.append(splitted_item)\n",
    "    return data_splitted"
   ]
  },
  {
   "cell_type": "code",
   "execution_count": 126,
   "metadata": {},
   "outputs": [
    {
     "data": {
      "text/plain": [
       "40605"
      ]
     },
     "execution_count": 126,
     "metadata": {},
     "output_type": "execute_result"
    }
   ],
   "source": [
    "train_original_splitted = split_data_last_tool_call(train_data_original)\n",
    "len(train_original_splitted)"
   ]
  },
  {
   "cell_type": "code",
   "execution_count": 119,
   "metadata": {},
   "outputs": [],
   "source": [
    "train_sample_splitted = split_data_last_tool_call(train_sample)\n",
    "val_sample_splitted = split_data_last_tool_call(val_sample)"
   ]
  },
  {
   "cell_type": "code",
   "execution_count": 122,
   "metadata": {},
   "outputs": [
    {
     "data": {
      "text/plain": [
       "25514"
      ]
     },
     "execution_count": 122,
     "metadata": {},
     "output_type": "execute_result"
    }
   ],
   "source": [
    "len(train_sample_splitted)"
   ]
  },
  {
   "cell_type": "code",
   "execution_count": 123,
   "metadata": {},
   "outputs": [
    {
     "data": {
      "text/plain": [
       "10322"
      ]
     },
     "execution_count": 123,
     "metadata": {},
     "output_type": "execute_result"
    }
   ],
   "source": [
    "len(val_sample_splitted)"
   ]
  },
  {
   "cell_type": "code",
   "execution_count": 120,
   "metadata": {},
   "outputs": [],
   "source": [
    "json.dump(train_sample_splitted, open('/data4/polyakov/instruction_tuning/ToolBench/data/toolbench_new_1311/cleaned_toolllama_G123_dfs_train_downloaded1311_no_undetectable_errors_final_train_train.json', 'w'))"
   ]
  },
  {
   "cell_type": "code",
   "execution_count": 121,
   "metadata": {},
   "outputs": [],
   "source": [
    "json.dump(val_sample_splitted, open('/data4/polyakov/instruction_tuning/ToolBench/data/toolbench_new_1311/cleaned_toolllama_G123_dfs_train_downloaded1311_no_undetectable_errors_final_train_val.json', 'w'))"
   ]
  },
  {
   "cell_type": "code",
   "execution_count": 131,
   "metadata": {},
   "outputs": [
    {
     "data": {
      "text/plain": [
       "7762"
      ]
     },
     "execution_count": 131,
     "metadata": {},
     "output_type": "execute_result"
    }
   ],
   "source": [
    "len(train_sample)"
   ]
  },
  {
   "cell_type": "code",
   "execution_count": 132,
   "metadata": {},
   "outputs": [
    {
     "data": {
      "text/plain": [
       "3276"
      ]
     },
     "execution_count": 132,
     "metadata": {},
     "output_type": "execute_result"
    }
   ],
   "source": [
    "len(val_sample)"
   ]
  },
  {
   "cell_type": "code",
   "execution_count": 133,
   "metadata": {},
   "outputs": [],
   "source": [
    "json.dump(train_sample, open('/data4/polyakov/instruction_tuning/ToolBench/data/toolbench_new_1311/cleaned_toolllama_G123_dfs_train_downloaded1311_no_undetectable_errors_final_train_train_full_chains.json', 'w'))"
   ]
  },
  {
   "cell_type": "code",
   "execution_count": 134,
   "metadata": {},
   "outputs": [],
   "source": [
    "json.dump(val_sample, open('/data4/polyakov/instruction_tuning/ToolBench/data/toolbench_new_1311/cleaned_toolllama_G123_dfs_train_downloaded1311_no_undetectable_errors_final_train_val_full_chains.json', 'w'))"
   ]
  },
  {
   "cell_type": "code",
   "execution_count": null,
   "metadata": {},
   "outputs": [],
   "source": []
  }
 ],
 "metadata": {
  "kernelspec": {
   "display_name": "Python 3 (ipykernel)",
   "language": "python",
   "name": "python3"
  },
  "language_info": {
   "codemirror_mode": {
    "name": "ipython",
    "version": 3
   },
   "file_extension": ".py",
   "mimetype": "text/x-python",
   "name": "python",
   "nbconvert_exporter": "python",
   "pygments_lexer": "ipython3",
   "version": "3.10.11"
  }
 },
 "nbformat": 4,
 "nbformat_minor": 2
}
