{
 "cells": [
  {
   "cell_type": "code",
   "execution_count": 2,
   "metadata": {},
   "outputs": [],
   "source": [
    "import sys\n",
    "sys.path.append('/data4/polyakov/instruction_tuning/ToolAlpaca')\n",
    "from utils import load_openapi_spec, analyze_openapi_spec\n",
    "import json\n",
    "from agent.convert_request import call_api_function\n",
    "from utils import load_openapi_spec, escape\n",
    "from agent.tools import Tool, GetDetailsTool, tool_projection\n",
    "\n",
    "def load_tools(api_data):\n",
    "    # server_url = \"http://127.0.0.1:5679\"\n",
    "    server_url = None\n",
    "    openapi_spec = load_openapi_spec(api_data[\"Documentation\"], replace_refs=True)\n",
    "    components_descriptions = escape(api_data[\"Function_Description\"][\"components\"])\n",
    "    tools = dict()\n",
    "    for idx, func_name in enumerate(api_data[\"Function_Projection\"]):\n",
    "        description = escape(api_data[\"Function_Description\"][func_name])\n",
    "        if idx == len(api_data[\"Function_Projection\"]) - 1:\n",
    "            description += components_descriptions\n",
    "        path, method = api_data[\"Function_Projection\"][func_name]\n",
    "        tools[func_name] = Tool(\n",
    "            base_url=server_url + \"/\" + api_data[\"Name\"] if server_url else None,\n",
    "            func_name=func_name,\n",
    "            openapi_spec=openapi_spec,\n",
    "            path=path,\n",
    "            method=method,\n",
    "            description=description,\n",
    "            retrieval_available=\"retrieval\" in api_data.get(\"external_tools\", [])\n",
    "        )\n",
    "    return tools"
   ]
  },
  {
   "cell_type": "code",
   "execution_count": 3,
   "metadata": {},
   "outputs": [],
   "source": [
    "real_tools = json.load(open('/data4/polyakov/instruction_tuning/ToolAlpaca/data/eval_real.json', 'r'))"
   ]
  },
  {
   "cell_type": "code",
   "execution_count": 4,
   "metadata": {},
   "outputs": [
    {
     "data": {
      "text/plain": [
       "{'Name': 'Nager.Date',\n",
       " 'Description': 'Public holidays for more than 90 countries',\n",
       " 'Category': 'Calendar',\n",
       " 'Authentication': {},\n",
       " 'external_tools': ['retrieval'],\n",
       " 'Documentation': '{\"openapi\": \"3.0.1\", \"info\": {\"title\": \"Nager.Date API - V3\", \"description\": \"Nager.Date is open source software. If you would like to support the project you can award a GitHub star \\\\u2b50 or much better <a href=\\'https://github.com/sponsors/nager\\'>start a sponsorship</a>\", \"contact\": {\"name\": \"Nager.Date on GitHub\", \"url\": \"https://github.com/nager/Nager.Date\"}, \"license\": {\"name\": \"MIT License\", \"url\": \"https://github.com/nager/Nager.Date/blob/master/LICENSE.md\"}, \"version\": \"v3\"}, \"servers\": [{\"url\": \"https://date.nager.at/\"}], \"paths\": {\"/api/v3/CountryInfo/{countryCode}\": {\"get\": {\"tags\": [\"Country\"], \"summary\": \"Get country info for the given country\", \"operationId\": \"CountryCountryInfo\", \"parameters\": [{\"name\": \"countryCode\", \"description\": \"Two-character represented country code. For instance, CN or cn represents China.\", \"in\": \"path\", \"required\": true, \"style\": \"simple\", \"explode\": false, \"schema\": {\"type\": \"string\"}}], \"responses\": {\"200\": {\"description\": \"Success\", \"content\": {\"text/plain\": {\"schema\": {\"$ref\": \"#/components/schemas/CountryInfoDto\"}}, \"application/json\": {\"schema\": {\"$ref\": \"#/components/schemas/CountryInfoDto\"}}, \"text/json\": {\"schema\": {\"$ref\": \"#/components/schemas/CountryInfoDto\"}}}}}}}, \"/api/v3/AvailableCountries\": {\"get\": {\"tags\": [\"Country\"], \"summary\": \"Get all available countries\", \"operationId\": \"CountryAvailableCountries\", \"responses\": {\"200\": {\"description\": \"Success\", \"content\": {\"text/plain\": {\"schema\": {\"type\": \"array\", \"items\": {\"$ref\": \"#/components/schemas/CountryV3Dto\"}}}, \"application/json\": {\"schema\": {\"type\": \"array\", \"items\": {\"$ref\": \"#/components/schemas/CountryV3Dto\"}}}, \"text/json\": {\"schema\": {\"type\": \"array\", \"items\": {\"$ref\": \"#/components/schemas/CountryV3Dto\"}}}}}}}}, \"/api/v3/LongWeekend/{year}/{countryCode}\": {\"get\": {\"tags\": [\"LongWeekend\"], \"summary\": \"Get long weekends for a given country\", \"operationId\": \"LongWeekendLongWeekend\", \"parameters\": [{\"name\": \"year\", \"in\": \"path\", \"required\": true, \"style\": \"simple\", \"explode\": false, \"schema\": {\"type\": \"integer\", \"format\": \"int32\"}}, {\"name\": \"countryCode\", \"in\": \"path\", \"description\": \"Two-character represented country code. For instance, CN or cn represents China.\", \"required\": true, \"style\": \"simple\", \"explode\": false, \"schema\": {\"type\": \"string\"}}], \"responses\": {\"200\": {\"description\": \"Success\", \"content\": {\"text/plain\": {\"schema\": {\"type\": \"array\", \"items\": {\"$ref\": \"#/components/schemas/LongWeekendV3Dto\"}}}, \"application/json\": {\"schema\": {\"type\": \"array\", \"items\": {\"$ref\": \"#/components/schemas/LongWeekendV3Dto\"}}}, \"text/json\": {\"schema\": {\"type\": \"array\", \"items\": {\"$ref\": \"#/components/schemas/LongWeekendV3Dto\"}}}}}}}}, \"/api/v3/PublicHolidays/{year}/{countryCode}\": {\"get\": {\"tags\": [\"PublicHoliday\"], \"summary\": \"Get public holidays\", \"operationId\": \"PublicHolidayPublicHolidaysV3\", \"parameters\": [{\"name\": \"year\", \"in\": \"path\", \"required\": true, \"style\": \"simple\", \"explode\": false, \"schema\": {\"type\": \"integer\", \"format\": \"int32\"}}, {\"name\": \"countryCode\", \"in\": \"path\", \"description\": \"Two-character represented country code. For instance, CN or cn represents China.\", \"required\": true, \"style\": \"simple\", \"explode\": false, \"schema\": {\"type\": \"string\"}}], \"responses\": {\"200\": {\"description\": \"Public holidays\", \"content\": {\"text/plain\": {\"schema\": {\"type\": \"array\", \"items\": {\"$ref\": \"#/components/schemas/PublicHolidayV3Dto\"}}}, \"application/json\": {\"schema\": {\"type\": \"array\", \"items\": {\"$ref\": \"#/components/schemas/PublicHolidayV3Dto\"}}}, \"text/json\": {\"schema\": {\"type\": \"array\", \"items\": {\"$ref\": \"#/components/schemas/PublicHolidayV3Dto\"}}}}}, \"400\": {\"description\": \"Validation failure\"}, \"404\": {\"description\": \"CountryCode is unknown\"}}}}, \"/api/v3/IsTodayPublicHoliday/{countryCode}\": {\"get\": {\"tags\": [\"PublicHoliday\"], \"summary\": \"Is today a public holiday\", \"description\": \"The calculation is made on the basis of UTC time to adjust the time please use the offset.<br />\\\\r\\\\nThis is a special endpoint for `curl`<br /><br />\\\\r\\\\n200 = Today is a public holiday<br />\\\\r\\\\n204 = Today is not a public holiday<br /><br />\\\\r\\\\n`STATUSCODE=$(curl --silent --output /dev/stderr --write-out \\\\\"%{http_code}\\\\\" https://date.nager.at/Api/v2/IsTodayPublicHoliday/AT)`<br /><br />\\\\r\\\\n`if [ $STATUSCODE -ne 200 ]; then # error handling; fi`\", \"operationId\": \"PublicHolidayIsTodayPublicHoliday\", \"parameters\": [{\"name\": \"countryCode\", \"in\": \"path\", \"description\": \"Two-character represented country code. For instance, CN or cn represents China.\", \"required\": true, \"style\": \"simple\", \"explode\": false, \"schema\": {\"type\": \"string\"}}, {\"name\": \"countyCode\", \"in\": \"query\", \"required\": false, \"style\": \"form\", \"explode\": true, \"schema\": {\"type\": \"string\"}}, {\"name\": \"offset\", \"in\": \"query\", \"description\": \"utc timezone offset\", \"required\": false, \"style\": \"form\", \"explode\": true, \"schema\": {\"maximum\": 12, \"minimum\": -12, \"type\": \"integer\", \"format\": \"int32\", \"default\": 0}}], \"responses\": {\"200\": {\"description\": \"Today is a public holiday\"}, \"204\": {\"description\": \"Today is not a public holiday\"}, \"400\": {\"description\": \"Validation failure\"}, \"404\": {\"description\": \"CountryCode is unknown\"}}}}, \"/api/v3/NextPublicHolidays/{countryCode}\": {\"get\": {\"tags\": [\"PublicHoliday\"], \"summary\": \"Returns the upcoming public holidays for the next 365 days for the given country\", \"operationId\": \"PublicHolidayNextPublicHolidays\", \"parameters\": [{\"name\": \"countryCode\", \"in\": \"path\", \"description\": \"Two-character represented country code. For instance, CN or cn represents China.\", \"required\": true, \"style\": \"simple\", \"explode\": false, \"schema\": {\"type\": \"string\"}}], \"responses\": {\"200\": {\"description\": \"Success\", \"content\": {\"text/plain\": {\"schema\": {\"type\": \"array\", \"items\": {\"$ref\": \"#/components/schemas/PublicHolidayV3Dto\"}}}, \"application/json\": {\"schema\": {\"type\": \"array\", \"items\": {\"$ref\": \"#/components/schemas/PublicHolidayV3Dto\"}}}, \"text/json\": {\"schema\": {\"type\": \"array\", \"items\": {\"$ref\": \"#/components/schemas/PublicHolidayV3Dto\"}}}}}}}}, \"/api/v3/NextPublicHolidaysWorldwide\": {\"get\": {\"tags\": [\"PublicHoliday\"], \"summary\": \"Returns the upcoming public holidays for the next 7 days\", \"operationId\": \"PublicHolidayNextPublicHolidaysWorldwide\", \"responses\": {\"200\": {\"description\": \"Success\", \"content\": {\"text/plain\": {\"schema\": {\"type\": \"array\", \"items\": {\"$ref\": \"#/components/schemas/PublicHolidayV3Dto\"}}}, \"application/json\": {\"schema\": {\"type\": \"array\", \"items\": {\"$ref\": \"#/components/schemas/PublicHolidayV3Dto\"}}}, \"text/json\": {\"schema\": {\"type\": \"array\", \"items\": {\"$ref\": \"#/components/schemas/PublicHolidayV3Dto\"}}}}}}}}, \"/api/v3/Version\": {\"get\": {\"tags\": [\"Version\"], \"summary\": \"Get version of the used Nager.Date library\", \"operationId\": \"VersionGetVersion\", \"responses\": {\"200\": {\"description\": \"Success\", \"content\": {\"text/plain\": {\"schema\": {\"$ref\": \"#/components/schemas/VersionInfoDto\"}}, \"application/json\": {\"schema\": {\"$ref\": \"#/components/schemas/VersionInfoDto\"}}, \"text/json\": {\"schema\": {\"$ref\": \"#/components/schemas/VersionInfoDto\"}}}}}}}}, \"components\": {\"schemas\": {\"CountryInfoDto\": {\"type\": \"object\", \"properties\": {\"commonName\": {\"type\": \"string\", \"description\": \"CommonName\", \"nullable\": true}, \"officialName\": {\"type\": \"string\", \"description\": \"OfficialName\", \"nullable\": true}, \"countryCode\": {\"type\": \"string\", \"description\": \"Two-character represented country code. For instance, CN or cn represents China.\", \"nullable\": true}, \"region\": {\"type\": \"string\", \"description\": \"Region\", \"nullable\": true}, \"borders\": {\"type\": \"array\", \"description\": \"Country Borders\", \"nullable\": true, \"items\": {\"$ref\": \"#/components/schemas/CountryInfoDto\"}}}, \"additionalProperties\": false, \"description\": \"CountryInfo Dto\"}, \"CountryV3Dto\": {\"type\": \"object\", \"properties\": {\"countryCode\": {\"type\": \"string\", \"nullable\": true}, \"name\": {\"type\": \"string\", \"nullable\": true}}, \"additionalProperties\": false, \"description\": \"Country\"}, \"LongWeekendV3Dto\": {\"type\": \"object\", \"properties\": {\"startDate\": {\"type\": \"string\", \"description\": \"StartDate\", \"format\": \"date-time\"}, \"endDate\": {\"type\": \"string\", \"description\": \"EndDate\", \"format\": \"date-time\"}, \"dayCount\": {\"type\": \"integer\", \"description\": \"DayCount\", \"format\": \"int32\"}, \"needBridgeDay\": {\"type\": \"boolean\", \"description\": \"NeedBridgeDay\"}}, \"additionalProperties\": false, \"description\": \"Long Weekend\"}, \"PublicHolidayType\": {\"type\": \"string\", \"enum\": [\"Public\", \"Bank\", \"School\", \"Authorities\", \"Optional\", \"Observance\"]}, \"PublicHolidayV3Dto\": {\"type\": \"object\", \"properties\": {\"date\": {\"type\": \"string\", \"description\": \"The date\", \"format\": \"date\"}, \"localName\": {\"type\": \"string\", \"description\": \"Local name\", \"nullable\": true}, \"name\": {\"type\": \"string\", \"description\": \"English name\", \"nullable\": true}, \"countryCode\": {\"type\": \"string\", \"description\": \"ISO 3166-1 alpha-2\", \"nullable\": true}, \"fixed\": {\"type\": \"boolean\", \"description\": \"Is this public holiday every year on the same date\"}, \"global\": {\"type\": \"boolean\", \"description\": \"Is this public holiday in every county (federal state)\"}, \"counties\": {\"type\": \"array\", \"description\": \"ISO-3166-2 - Federal states\", \"nullable\": true, \"items\": {\"type\": \"string\"}}, \"launchYear\": {\"type\": \"integer\", \"description\": \"The launch year of the public holiday\", \"format\": \"int32\", \"nullable\": true}, \"types\": {\"type\": \"array\", \"description\": \"A list of types the public holiday it is valid\", \"nullable\": true, \"items\": {\"$ref\": \"#/components/schemas/PublicHolidayType\"}}}, \"additionalProperties\": false, \"description\": \"Public Holiday\"}, \"VersionInfoDto\": {\"type\": \"object\", \"properties\": {\"name\": {\"type\": \"string\", \"nullable\": true}, \"version\": {\"type\": \"string\", \"nullable\": true}}, \"additionalProperties\": false}}}}',\n",
       " 'NLDocumentation': 'CountryCountryInfo: Get country info for the given country\\nParameters: {\"countryCode\": \"Required. string. Two-character represented country code. For instance, CN or cn represents China.\"}\\nOutput: Success.\\n - Format: text/plain\\n - Structure: #CountryInfoDto\\nCountryAvailableCountries: Get all available countries\\nParameters: {}\\nOutput: Success.\\n - Format: text/plain\\n - Structure: Array[#CountryV3Dto]\\nLongWeekendLongWeekend: Get long weekends for a given country\\nParameters: {\"year\": \"Required. integer. \", \"countryCode\": \"Required. string. Two-character represented country code. For instance, CN or cn represents China.\"}\\nOutput: Success.\\n - Format: text/plain\\n - Structure: Array[#LongWeekendV3Dto]\\nPublicHolidayPublicHolidaysV3: Get public holidays\\nParameters: {\"year\": \"Required. integer. \", \"countryCode\": \"Required. string. Two-character represented country code. For instance, CN or cn represents China.\"}\\nOutput: Public holidays.\\n - Format: text/plain\\n - Structure: Array[#PublicHolidayV3Dto]\\nPublicHolidayIsTodayPublicHoliday: Is today a public holiday\\nParameters: {\"countryCode\": \"Required. string. Two-character represented country code. For instance, CN or cn represents China.\", \"countyCode\": \"string. \", \"offset\": \"integer. utc timezone offset.\"}\\nOutput: Today is a public holiday.\\n - Format: \\n - Structure: \\nPublicHolidayNextPublicHolidays: Returns the upcoming public holidays for the next 365 days for the given country\\nParameters: {\"countryCode\": \"Required. string. Two-character represented country code. For instance, CN or cn represents China.\"}\\nOutput: Success.\\n - Format: text/plain\\n - Structure: Array[#PublicHolidayV3Dto]\\nPublicHolidayNextPublicHolidaysWorldwide: Returns the upcoming public holidays for the next 7 days\\nParameters: {}\\nOutput: Success.\\n - Format: text/plain\\n - Structure: Array[#PublicHolidayV3Dto]\\nVersionGetVersion: Get version of the used Nager.Date library\\nParameters: {}\\nOutput: Success.\\n - Format: text/plain\\n - Structure: #VersionInfoDto\\n\\nThe detailed output format for the tools is outlined below:\\n#CountryInfoDto: Object{commonName, officialName, countryCode, region, borders: Array[#CountryInfoDto]}\\n#CountryV3Dto: Object{countryCode, name}\\n#LongWeekendV3Dto: Object{startDate, endDate, dayCount, needBridgeDay}\\n#PublicHolidayType: \\n#PublicHolidayV3Dto: Object{date, localName, name, countryCode, fixed, global, counties: Array[string], launchYear, types: Array[#PublicHolidayType]}\\n#VersionInfoDto: Object{name, version}\\n',\n",
       " 'Function_Description': {'CountryCountryInfo': 'Get country info for the given country\\nParameters: {\"countryCode\": \"Required. string. Two-character represented country code. For instance, CN or cn represents China.\"}\\nOutput: Success.\\n - Format: text/plain\\n - Structure: #CountryInfoDto',\n",
       "  'CountryAvailableCountries': 'Get all available countries\\nParameters: {}\\nOutput: Success.\\n - Format: text/plain\\n - Structure: Array[#CountryV3Dto]',\n",
       "  'LongWeekendLongWeekend': 'Get long weekends for a given country\\nParameters: {\"year\": \"Required. integer. \", \"countryCode\": \"Required. string. Two-character represented country code. For instance, CN or cn represents China.\"}\\nOutput: Success.\\n - Format: text/plain\\n - Structure: Array[#LongWeekendV3Dto]',\n",
       "  'PublicHolidayPublicHolidaysV3': 'Get public holidays\\nParameters: {\"year\": \"Required. integer. \", \"countryCode\": \"Required. string. Two-character represented country code. For instance, CN or cn represents China.\"}\\nOutput: Public holidays.\\n - Format: text/plain\\n - Structure: Array[#PublicHolidayV3Dto]',\n",
       "  'PublicHolidayIsTodayPublicHoliday': 'Is today a public holiday\\nParameters: {\"countryCode\": \"Required. string. Two-character represented country code. For instance, CN or cn represents China.\", \"countyCode\": \"string. \", \"offset\": \"integer. utc timezone offset.\"}\\nOutput: Today is a public holiday.\\n - Format: \\n - Structure:',\n",
       "  'PublicHolidayNextPublicHolidays': 'Returns the upcoming public holidays for the next 365 days for the given country\\nParameters: {\"countryCode\": \"Required. string. Two-character represented country code. For instance, CN or cn represents China.\"}\\nOutput: Success.\\n - Format: text/plain\\n - Structure: Array[#PublicHolidayV3Dto]',\n",
       "  'PublicHolidayNextPublicHolidaysWorldwide': 'Returns the upcoming public holidays for the next 7 days\\nParameters: {}\\nOutput: Success.\\n - Format: text/plain\\n - Structure: Array[#PublicHolidayV3Dto]',\n",
       "  'VersionGetVersion': 'Get version of the used Nager.Date library\\nParameters: {}\\nOutput: Success.\\n - Format: text/plain\\n - Structure: #VersionInfoDto',\n",
       "  'components': 'The detailed output format for the tools is outlined below:\\n#CountryInfoDto: Object{commonName, officialName, countryCode, region, borders: Array[#CountryInfoDto]}\\n#CountryV3Dto: Object{countryCode, name}\\n#LongWeekendV3Dto: Object{startDate, endDate, dayCount, needBridgeDay}\\n#PublicHolidayType: \\n#PublicHolidayV3Dto: Object{date, localName, name, countryCode, fixed, global, counties: Array[string], launchYear, types: Array[#PublicHolidayType]}\\n#VersionInfoDto: Object{name, version}'},\n",
       " 'Function_Projection': {'CountryCountryInfo': ['/api/v3/CountryInfo/{countryCode}',\n",
       "   'get'],\n",
       "  'CountryAvailableCountries': ['/api/v3/AvailableCountries', 'get'],\n",
       "  'LongWeekendLongWeekend': ['/api/v3/LongWeekend/{year}/{countryCode}',\n",
       "   'get'],\n",
       "  'PublicHolidayPublicHolidaysV3': ['/api/v3/PublicHolidays/{year}/{countryCode}',\n",
       "   'get'],\n",
       "  'PublicHolidayIsTodayPublicHoliday': ['/api/v3/IsTodayPublicHoliday/{countryCode}',\n",
       "   'get'],\n",
       "  'PublicHolidayNextPublicHolidays': ['/api/v3/NextPublicHolidays/{countryCode}',\n",
       "   'get'],\n",
       "  'PublicHolidayNextPublicHolidaysWorldwide': ['/api/v3/NextPublicHolidaysWorldwide',\n",
       "   'get'],\n",
       "  'VersionGetVersion': ['/api/v3/Version', 'get']},\n",
       " 'Instructions': ['Can you check if today is a public holiday in China?',\n",
       "  'Get the country info for China.',\n",
       "  'Get the list of all available countries for public holiday information.',\n",
       "  'I want to know the version of the Nager.Date library being used. Can you fetch that for me?',\n",
       "  'I need to find out if there are any long weekends in the United States in 2024. Can you help me with that?',\n",
       "  'Find out the next public holidays for the Great Britain.',\n",
       "  \"I'm curious about the public holidays in Australia in 2023. Can you fetch the list for me?\",\n",
       "  'Get the upcoming public holidays worldwide for the next 7 days.',\n",
       "  \"I'm planning a trip to Japan next year. Can you find out if there are any long weekends in Japan in 2023? It would be great to align my trip with a long weekend.\",\n",
       "  \"I'm curious about the public holidays in different countries. Could you show me the public holidays for the next week worldwide?\",\n",
       "  \"I'm working on a project about different countries. Can you provide me with information about France, such as its official name, region, and neighboring countries?\",\n",
       "  \"I'm interested in knowing the upcoming public holidays in Germany for the next year. Could you fetch that information for me?\",\n",
       "  \"I'm creating a calendar for my international team. Can you help me find the public holidays in the USA for 2023?\",\n",
       "  \"I'm planning a road trip across Europe. Can you provide me with information about Italy, including its common name, official name, and the countries it shares borders with?\",\n",
       "  \"Can you help me plan my next vacation by checking the public holidays in Japan and Germany for the next year? I want to make sure I don't miss any important dates.\",\n",
       "  \"Hey, I'm curious about the holidays in different countries. Can you compare the number of public holidays in Canada, and Mexico for 2023?\",\n",
       "  \"I'm planning a surprise visit to my friend in Germany. I need to know when the next long weekend of the year 2023 is coming up, so I can plan my trip.\"],\n",
       " 'Golden_Answers': [[{'Action': 'PublicHolidayIsTodayPublicHoliday',\n",
       "    'Action_Input': '{\"countryCode\": \"CN\"}'}],\n",
       "  [{'Action': 'CountryCountryInfo', 'Action_Input': '{\"countryCode\": \"CN\"}'}],\n",
       "  [{'Action': 'CountryAvailableCountries', 'Action_Input': '{}'}],\n",
       "  [{'Action': 'VersionGetVersion', 'Action_Input': '{}'}],\n",
       "  [{'Action': 'LongWeekendLongWeekend',\n",
       "    'Action_Input': '{\"year\": 2024, \"countryCode\": \"US\"}'}],\n",
       "  [{'Action': 'PublicHolidayNextPublicHolidays',\n",
       "    'Action_Input': '{\"countryCode\": \"GB\"}'}],\n",
       "  [{'Action': 'PublicHolidayPublicHolidaysV3',\n",
       "    'Action_Input': '{\"year\": 2023, \"countryCode\": \"AU\"}'}],\n",
       "  [{'Action': 'PublicHolidayNextPublicHolidaysWorldwide',\n",
       "    'Action_Input': '{}'}],\n",
       "  [{'Action': 'LongWeekendLongWeekend',\n",
       "    'Action_Input': '{\"year\": 2023, \"countryCode\": \"JP\"}'}],\n",
       "  [{'Action': 'PublicHolidayNextPublicHolidaysWorldwide',\n",
       "    'Action_Input': '{}'}],\n",
       "  [{'Action': 'CountryCountryInfo', 'Action_Input': '{\"countryCode\": \"FR\"}'}],\n",
       "  [{'Action': 'PublicHolidayNextPublicHolidays',\n",
       "    'Action_Input': '{\"countryCode\": \"DE\"}'}],\n",
       "  [{'Action': 'PublicHolidayPublicHolidaysV3',\n",
       "    'Action_Input': '{\"year\": 2023, \"countryCode\": \"US\"}'}],\n",
       "  [{'Action': 'CountryCountryInfo', 'Action_Input': '{\"countryCode\": \"IT\"}'}],\n",
       "  [{'Action': 'PublicHolidayNextPublicHolidays',\n",
       "    'Action_Input': '{\"countryCode\": \"JP\"}'},\n",
       "   {'Action': 'PublicHolidayNextPublicHolidays',\n",
       "    'Action_Input': '{\"countryCode\": \"DE\"}'}],\n",
       "  [{'Action': 'PublicHolidayPublicHolidaysV3',\n",
       "    'Action_Input': '{\"year\": 2023, \"countryCode\": \"CA\"}'},\n",
       "   {'Action': 'PublicHolidayPublicHolidaysV3',\n",
       "    'Action_Input': '{\"year\": 2023, \"countryCode\": \"MX\"}'}],\n",
       "  [{'Action': 'LongWeekendLongWeekend',\n",
       "    'Action_Input': '{\"year\": 2023, \"countryCode\": \"DE\"}'}]]}"
      ]
     },
     "execution_count": 4,
     "metadata": {},
     "output_type": "execute_result"
    }
   ],
   "source": [
    "real_tools[0]"
   ]
  },
  {
   "cell_type": "code",
   "execution_count": 5,
   "metadata": {},
   "outputs": [],
   "source": [
    "tools = load_tools(real_tools[0])"
   ]
  },
  {
   "cell_type": "code",
   "execution_count": 6,
   "metadata": {},
   "outputs": [
    {
     "data": {
      "text/plain": [
       "{'CountryCountryInfo': Tool(name='CountryCountryInfo', description='Get country info for the given country\\nParameters: {{\"countryCode\": \"Required. string. Two-character represented country code. For instance, CN or cn represents China.\"}}\\nOutput: Success.\\n - Format: text/plain\\n - Structure: #CountryInfoDto', args_schema=None, return_direct=False, verbose=False, callback_manager=<langchain.callbacks.shared.SharedCallbackManager object at 0x7f0f4c22b9d0>, func=<function Tool.__init__.<locals>.func at 0x7f0f4c2ac9d0>, coroutine=None, max_output_len=3000),\n",
       " 'CountryAvailableCountries': Tool(name='CountryAvailableCountries', description='Get all available countries\\nParameters: {{}}\\nOutput: Success.\\n - Format: text/plain\\n - Structure: Array[#CountryV3Dto]', args_schema=None, return_direct=False, verbose=False, callback_manager=<langchain.callbacks.shared.SharedCallbackManager object at 0x7f0f4c22b9d0>, func=<function Tool.__init__.<locals>.func at 0x7f0f4c2aca60>, coroutine=None, max_output_len=3000),\n",
       " 'LongWeekendLongWeekend': Tool(name='LongWeekendLongWeekend', description='Get long weekends for a given country\\nParameters: {{\"year\": \"Required. integer. \", \"countryCode\": \"Required. string. Two-character represented country code. For instance, CN or cn represents China.\"}}\\nOutput: Success.\\n - Format: text/plain\\n - Structure: Array[#LongWeekendV3Dto]', args_schema=None, return_direct=False, verbose=False, callback_manager=<langchain.callbacks.shared.SharedCallbackManager object at 0x7f0f4c22b9d0>, func=<function Tool.__init__.<locals>.func at 0x7f0f4c2acaf0>, coroutine=None, max_output_len=3000),\n",
       " 'PublicHolidayPublicHolidaysV3': Tool(name='PublicHolidayPublicHolidaysV3', description='Get public holidays\\nParameters: {{\"year\": \"Required. integer. \", \"countryCode\": \"Required. string. Two-character represented country code. For instance, CN or cn represents China.\"}}\\nOutput: Public holidays.\\n - Format: text/plain\\n - Structure: Array[#PublicHolidayV3Dto]', args_schema=None, return_direct=False, verbose=False, callback_manager=<langchain.callbacks.shared.SharedCallbackManager object at 0x7f0f4c22b9d0>, func=<function Tool.__init__.<locals>.func at 0x7f0f4c2acb80>, coroutine=None, max_output_len=3000),\n",
       " 'PublicHolidayIsTodayPublicHoliday': Tool(name='PublicHolidayIsTodayPublicHoliday', description='Is today a public holiday\\nParameters: {{\"countryCode\": \"Required. string. Two-character represented country code. For instance, CN or cn represents China.\", \"countyCode\": \"string. \", \"offset\": \"integer. utc timezone offset.\"}}\\nOutput: Today is a public holiday.\\n - Format: \\n - Structure:', args_schema=None, return_direct=False, verbose=False, callback_manager=<langchain.callbacks.shared.SharedCallbackManager object at 0x7f0f4c22b9d0>, func=<function Tool.__init__.<locals>.func at 0x7f0f4c2acc10>, coroutine=None, max_output_len=3000),\n",
       " 'PublicHolidayNextPublicHolidays': Tool(name='PublicHolidayNextPublicHolidays', description='Returns the upcoming public holidays for the next 365 days for the given country\\nParameters: {{\"countryCode\": \"Required. string. Two-character represented country code. For instance, CN or cn represents China.\"}}\\nOutput: Success.\\n - Format: text/plain\\n - Structure: Array[#PublicHolidayV3Dto]', args_schema=None, return_direct=False, verbose=False, callback_manager=<langchain.callbacks.shared.SharedCallbackManager object at 0x7f0f4c22b9d0>, func=<function Tool.__init__.<locals>.func at 0x7f0f4c2acca0>, coroutine=None, max_output_len=3000),\n",
       " 'PublicHolidayNextPublicHolidaysWorldwide': Tool(name='PublicHolidayNextPublicHolidaysWorldwide', description='Returns the upcoming public holidays for the next 7 days\\nParameters: {{}}\\nOutput: Success.\\n - Format: text/plain\\n - Structure: Array[#PublicHolidayV3Dto]', args_schema=None, return_direct=False, verbose=False, callback_manager=<langchain.callbacks.shared.SharedCallbackManager object at 0x7f0f4c22b9d0>, func=<function Tool.__init__.<locals>.func at 0x7f0f4c2acd30>, coroutine=None, max_output_len=3000),\n",
       " 'VersionGetVersion': Tool(name='VersionGetVersion', description='Get version of the used Nager.Date library\\nParameters: {{}}\\nOutput: Success.\\n - Format: text/plain\\n - Structure: #VersionInfoDtoThe detailed output format for the tools is outlined below:\\n#CountryInfoDto: Object{{commonName, officialName, countryCode, region, borders: Array[#CountryInfoDto]}}\\n#CountryV3Dto: Object{{countryCode, name}}\\n#LongWeekendV3Dto: Object{{startDate, endDate, dayCount, needBridgeDay}}\\n#PublicHolidayType: \\n#PublicHolidayV3Dto: Object{{date, localName, name, countryCode, fixed, global, counties: Array[string], launchYear, types: Array[#PublicHolidayType]}}\\n#VersionInfoDto: Object{{name, version}}', args_schema=None, return_direct=False, verbose=False, callback_manager=<langchain.callbacks.shared.SharedCallbackManager object at 0x7f0f4c22b9d0>, func=<function Tool.__init__.<locals>.func at 0x7f0f4c2acdc0>, coroutine=None, max_output_len=3000)}"
      ]
     },
     "execution_count": 6,
     "metadata": {},
     "output_type": "execute_result"
    }
   ],
   "source": [
    "tools"
   ]
  },
  {
   "cell_type": "code",
   "execution_count": 7,
   "metadata": {},
   "outputs": [
    {
     "ename": "SSLError",
     "evalue": "HTTPSConnectionPool(host='date.nager.at', port=443): Max retries exceeded with url: /api/v3/IsTodayPublicHoliday/cn?offset=1 (Caused by SSLError(SSLCertVerificationError(1, '[SSL: CERTIFICATE_VERIFY_FAILED] certificate verify failed: self-signed certificate in certificate chain (_ssl.c:1007)')))",
     "output_type": "error",
     "traceback": [
      "\u001b[0;31m---------------------------------------------------------------------------\u001b[0m",
      "\u001b[0;31mSSLError\u001b[0m                                  Traceback (most recent call last)",
      "\u001b[0;31mSSLError\u001b[0m: [SSL: CERTIFICATE_VERIFY_FAILED] certificate verify failed: self-signed certificate in certificate chain (_ssl.c:1007)",
      "\nThe above exception was the direct cause of the following exception:\n",
      "\u001b[0;31mMaxRetryError\u001b[0m                             Traceback (most recent call last)",
      "File \u001b[0;32m/data2/polyakov/anaconda3/envs/alpaca-lora-1/lib/python3.10/site-packages/requests/adapters.py:667\u001b[0m, in \u001b[0;36mHTTPAdapter.send\u001b[0;34m(self, request, stream, timeout, verify, cert, proxies)\u001b[0m\n\u001b[1;32m    666\u001b[0m \u001b[38;5;28;01mtry\u001b[39;00m:\n\u001b[0;32m--> 667\u001b[0m     resp \u001b[38;5;241m=\u001b[39m \u001b[43mconn\u001b[49m\u001b[38;5;241;43m.\u001b[39;49m\u001b[43murlopen\u001b[49m\u001b[43m(\u001b[49m\n\u001b[1;32m    668\u001b[0m \u001b[43m        \u001b[49m\u001b[43mmethod\u001b[49m\u001b[38;5;241;43m=\u001b[39;49m\u001b[43mrequest\u001b[49m\u001b[38;5;241;43m.\u001b[39;49m\u001b[43mmethod\u001b[49m\u001b[43m,\u001b[49m\n\u001b[1;32m    669\u001b[0m \u001b[43m        \u001b[49m\u001b[43murl\u001b[49m\u001b[38;5;241;43m=\u001b[39;49m\u001b[43murl\u001b[49m\u001b[43m,\u001b[49m\n\u001b[1;32m    670\u001b[0m \u001b[43m        \u001b[49m\u001b[43mbody\u001b[49m\u001b[38;5;241;43m=\u001b[39;49m\u001b[43mrequest\u001b[49m\u001b[38;5;241;43m.\u001b[39;49m\u001b[43mbody\u001b[49m\u001b[43m,\u001b[49m\n\u001b[1;32m    671\u001b[0m \u001b[43m        \u001b[49m\u001b[43mheaders\u001b[49m\u001b[38;5;241;43m=\u001b[39;49m\u001b[43mrequest\u001b[49m\u001b[38;5;241;43m.\u001b[39;49m\u001b[43mheaders\u001b[49m\u001b[43m,\u001b[49m\n\u001b[1;32m    672\u001b[0m \u001b[43m        \u001b[49m\u001b[43mredirect\u001b[49m\u001b[38;5;241;43m=\u001b[39;49m\u001b[38;5;28;43;01mFalse\u001b[39;49;00m\u001b[43m,\u001b[49m\n\u001b[1;32m    673\u001b[0m \u001b[43m        \u001b[49m\u001b[43massert_same_host\u001b[49m\u001b[38;5;241;43m=\u001b[39;49m\u001b[38;5;28;43;01mFalse\u001b[39;49;00m\u001b[43m,\u001b[49m\n\u001b[1;32m    674\u001b[0m \u001b[43m        \u001b[49m\u001b[43mpreload_content\u001b[49m\u001b[38;5;241;43m=\u001b[39;49m\u001b[38;5;28;43;01mFalse\u001b[39;49;00m\u001b[43m,\u001b[49m\n\u001b[1;32m    675\u001b[0m \u001b[43m        \u001b[49m\u001b[43mdecode_content\u001b[49m\u001b[38;5;241;43m=\u001b[39;49m\u001b[38;5;28;43;01mFalse\u001b[39;49;00m\u001b[43m,\u001b[49m\n\u001b[1;32m    676\u001b[0m \u001b[43m        \u001b[49m\u001b[43mretries\u001b[49m\u001b[38;5;241;43m=\u001b[39;49m\u001b[38;5;28;43mself\u001b[39;49m\u001b[38;5;241;43m.\u001b[39;49m\u001b[43mmax_retries\u001b[49m\u001b[43m,\u001b[49m\n\u001b[1;32m    677\u001b[0m \u001b[43m        \u001b[49m\u001b[43mtimeout\u001b[49m\u001b[38;5;241;43m=\u001b[39;49m\u001b[43mtimeout\u001b[49m\u001b[43m,\u001b[49m\n\u001b[1;32m    678\u001b[0m \u001b[43m        \u001b[49m\u001b[43mchunked\u001b[49m\u001b[38;5;241;43m=\u001b[39;49m\u001b[43mchunked\u001b[49m\u001b[43m,\u001b[49m\n\u001b[1;32m    679\u001b[0m \u001b[43m    \u001b[49m\u001b[43m)\u001b[49m\n\u001b[1;32m    681\u001b[0m \u001b[38;5;28;01mexcept\u001b[39;00m (ProtocolError, \u001b[38;5;167;01mOSError\u001b[39;00m) \u001b[38;5;28;01mas\u001b[39;00m err:\n",
      "File \u001b[0;32m/data2/polyakov/anaconda3/envs/alpaca-lora-1/lib/python3.10/site-packages/urllib3/connectionpool.py:847\u001b[0m, in \u001b[0;36mHTTPConnectionPool.urlopen\u001b[0;34m(self, method, url, body, headers, retries, redirect, assert_same_host, timeout, pool_timeout, release_conn, chunked, body_pos, preload_content, decode_content, **response_kw)\u001b[0m\n\u001b[1;32m    845\u001b[0m     new_e \u001b[38;5;241m=\u001b[39m ProtocolError(\u001b[38;5;124m\"\u001b[39m\u001b[38;5;124mConnection aborted.\u001b[39m\u001b[38;5;124m\"\u001b[39m, new_e)\n\u001b[0;32m--> 847\u001b[0m retries \u001b[38;5;241m=\u001b[39m \u001b[43mretries\u001b[49m\u001b[38;5;241;43m.\u001b[39;49m\u001b[43mincrement\u001b[49m\u001b[43m(\u001b[49m\n\u001b[1;32m    848\u001b[0m \u001b[43m    \u001b[49m\u001b[43mmethod\u001b[49m\u001b[43m,\u001b[49m\u001b[43m \u001b[49m\u001b[43murl\u001b[49m\u001b[43m,\u001b[49m\u001b[43m \u001b[49m\u001b[43merror\u001b[49m\u001b[38;5;241;43m=\u001b[39;49m\u001b[43mnew_e\u001b[49m\u001b[43m,\u001b[49m\u001b[43m \u001b[49m\u001b[43m_pool\u001b[49m\u001b[38;5;241;43m=\u001b[39;49m\u001b[38;5;28;43mself\u001b[39;49m\u001b[43m,\u001b[49m\u001b[43m \u001b[49m\u001b[43m_stacktrace\u001b[49m\u001b[38;5;241;43m=\u001b[39;49m\u001b[43msys\u001b[49m\u001b[38;5;241;43m.\u001b[39;49m\u001b[43mexc_info\u001b[49m\u001b[43m(\u001b[49m\u001b[43m)\u001b[49m\u001b[43m[\u001b[49m\u001b[38;5;241;43m2\u001b[39;49m\u001b[43m]\u001b[49m\n\u001b[1;32m    849\u001b[0m \u001b[43m\u001b[49m\u001b[43m)\u001b[49m\n\u001b[1;32m    850\u001b[0m retries\u001b[38;5;241m.\u001b[39msleep()\n",
      "File \u001b[0;32m/data2/polyakov/anaconda3/envs/alpaca-lora-1/lib/python3.10/site-packages/urllib3/util/retry.py:515\u001b[0m, in \u001b[0;36mRetry.increment\u001b[0;34m(self, method, url, response, error, _pool, _stacktrace)\u001b[0m\n\u001b[1;32m    514\u001b[0m     reason \u001b[38;5;241m=\u001b[39m error \u001b[38;5;129;01mor\u001b[39;00m ResponseError(cause)\n\u001b[0;32m--> 515\u001b[0m     \u001b[38;5;28;01mraise\u001b[39;00m MaxRetryError(_pool, url, reason) \u001b[38;5;28;01mfrom\u001b[39;00m \u001b[38;5;21;01mreason\u001b[39;00m  \u001b[38;5;66;03m# type: ignore[arg-type]\u001b[39;00m\n\u001b[1;32m    517\u001b[0m log\u001b[38;5;241m.\u001b[39mdebug(\u001b[38;5;124m\"\u001b[39m\u001b[38;5;124mIncremented Retry for (url=\u001b[39m\u001b[38;5;124m'\u001b[39m\u001b[38;5;132;01m%s\u001b[39;00m\u001b[38;5;124m'\u001b[39m\u001b[38;5;124m): \u001b[39m\u001b[38;5;132;01m%r\u001b[39;00m\u001b[38;5;124m\"\u001b[39m, url, new_retry)\n",
      "\u001b[0;31mMaxRetryError\u001b[0m: HTTPSConnectionPool(host='date.nager.at', port=443): Max retries exceeded with url: /api/v3/IsTodayPublicHoliday/cn?offset=1 (Caused by SSLError(SSLCertVerificationError(1, '[SSL: CERTIFICATE_VERIFY_FAILED] certificate verify failed: self-signed certificate in certificate chain (_ssl.c:1007)')))",
      "\nDuring handling of the above exception, another exception occurred:\n",
      "\u001b[0;31mSSLError\u001b[0m                                  Traceback (most recent call last)",
      "Cell \u001b[0;32mIn[7], line 2\u001b[0m\n\u001b[1;32m      1\u001b[0m test_tool \u001b[38;5;241m=\u001b[39m tools[\u001b[38;5;124m'\u001b[39m\u001b[38;5;124mPublicHolidayIsTodayPublicHoliday\u001b[39m\u001b[38;5;124m'\u001b[39m]\n\u001b[0;32m----> 2\u001b[0m \u001b[43mtest_tool\u001b[49m\u001b[38;5;241;43m.\u001b[39;49m\u001b[43m_run\u001b[49m\u001b[43m(\u001b[49m\u001b[38;5;124;43m'\u001b[39;49m\u001b[38;5;124;43m{\u001b[39;49m\u001b[38;5;130;43;01m\\\"\u001b[39;49;00m\u001b[38;5;124;43mcountryCode\u001b[39;49m\u001b[38;5;130;43;01m\\\"\u001b[39;49;00m\u001b[38;5;124;43m: \u001b[39;49m\u001b[38;5;130;43;01m\\\"\u001b[39;49;00m\u001b[38;5;124;43mcn\u001b[39;49m\u001b[38;5;130;43;01m\\\"\u001b[39;49;00m\u001b[38;5;124;43m, \u001b[39;49m\u001b[38;5;130;43;01m\\\"\u001b[39;49;00m\u001b[38;5;124;43moffset\u001b[39;49m\u001b[38;5;130;43;01m\\\"\u001b[39;49;00m\u001b[38;5;124;43m: 1}\u001b[39;49m\u001b[38;5;124;43m'\u001b[39;49m\u001b[43m)\u001b[49m\n",
      "File \u001b[0;32m/data4/polyakov/instruction_tuning/ToolAlpaca/agent/tools.py:27\u001b[0m, in \u001b[0;36mTool._run\u001b[0;34m(self, tool_input)\u001b[0m\n\u001b[1;32m     25\u001b[0m \u001b[38;5;28;01mdef\u001b[39;00m \u001b[38;5;21m_run\u001b[39m(\u001b[38;5;28mself\u001b[39m, tool_input: \u001b[38;5;28mstr\u001b[39m) \u001b[38;5;241m-\u001b[39m\u001b[38;5;241m>\u001b[39m \u001b[38;5;28mstr\u001b[39m:\n\u001b[1;32m     26\u001b[0m \u001b[38;5;250m    \u001b[39m\u001b[38;5;124;03m\"\"\"Use the tool.\"\"\"\u001b[39;00m\n\u001b[0;32m---> 27\u001b[0m     \u001b[38;5;28;01mreturn\u001b[39;00m \u001b[38;5;28;43mself\u001b[39;49m\u001b[38;5;241;43m.\u001b[39;49m\u001b[43mfunc\u001b[49m\u001b[43m(\u001b[49m\u001b[43mtool_input\u001b[49m\u001b[43m)\u001b[49m\n",
      "File \u001b[0;32m/data4/polyakov/instruction_tuning/ToolAlpaca/agent/tools.py:54\u001b[0m, in \u001b[0;36mTool.__init__.<locals>.func\u001b[0;34m(params)\u001b[0m\n\u001b[1;32m     52\u001b[0m \u001b[38;5;28;01mwhile\u001b[39;00m retry_times \u001b[38;5;241m<\u001b[39m \u001b[38;5;241m3\u001b[39m:\n\u001b[1;32m     53\u001b[0m     \u001b[38;5;28;01mtry\u001b[39;00m:\n\u001b[0;32m---> 54\u001b[0m         response \u001b[38;5;241m=\u001b[39m \u001b[43mcall_api_function\u001b[49m\u001b[43m(\u001b[49m\n\u001b[1;32m     55\u001b[0m \u001b[43m            \u001b[49m\u001b[43minput_params\u001b[49m\u001b[38;5;241;43m=\u001b[39;49m\u001b[43mparams\u001b[49m\u001b[43m,\u001b[49m\n\u001b[1;32m     56\u001b[0m \u001b[43m            \u001b[49m\u001b[43mopenapi_spec\u001b[49m\u001b[38;5;241;43m=\u001b[39;49m\u001b[43mopenapi_spec\u001b[49m\u001b[43m,\u001b[49m\n\u001b[1;32m     57\u001b[0m \u001b[43m            \u001b[49m\u001b[43mpath\u001b[49m\u001b[38;5;241;43m=\u001b[39;49m\u001b[43mpath\u001b[49m\u001b[43m,\u001b[49m\n\u001b[1;32m     58\u001b[0m \u001b[43m            \u001b[49m\u001b[43mmethod\u001b[49m\u001b[38;5;241;43m=\u001b[39;49m\u001b[43mmethod\u001b[49m\u001b[43m,\u001b[49m\n\u001b[1;32m     59\u001b[0m \u001b[43m            \u001b[49m\u001b[43mbase_url\u001b[49m\u001b[38;5;241;43m=\u001b[39;49m\u001b[43mbase_url\u001b[49m\n\u001b[1;32m     60\u001b[0m \u001b[43m        \u001b[49m\u001b[43m)\u001b[49m\n\u001b[1;32m     61\u001b[0m     \u001b[38;5;66;03m# except Exception as e:\u001b[39;00m\n\u001b[1;32m     62\u001b[0m     \u001b[38;5;28;01mexcept\u001b[39;00m \u001b[38;5;167;01mValueError\u001b[39;00m \u001b[38;5;28;01mas\u001b[39;00m e:\n\u001b[1;32m     63\u001b[0m         \u001b[38;5;66;03m# if isinstance(e, KeyError):\u001b[39;00m\n\u001b[1;32m     64\u001b[0m         \u001b[38;5;66;03m#     return str(e)\u001b[39;00m\n",
      "File \u001b[0;32m/data4/polyakov/instruction_tuning/ToolAlpaca/agent/convert_request.py:117\u001b[0m, in \u001b[0;36mcall_api_function\u001b[0;34m(input_params, openapi_spec, path, method, base_url)\u001b[0m\n\u001b[1;32m    114\u001b[0m headers\u001b[38;5;241m.\u001b[39mupdate(params[\u001b[38;5;124m\"\u001b[39m\u001b[38;5;124mheader\u001b[39m\u001b[38;5;124m\"\u001b[39m])\n\u001b[1;32m    116\u001b[0m logger\u001b[38;5;241m.\u001b[39mdebug(\u001b[38;5;124m\"\u001b[39m\u001b[38;5;124mrequest url: \u001b[39m\u001b[38;5;132;01m{url}\u001b[39;00m\u001b[38;5;124m\"\u001b[39m)\n\u001b[0;32m--> 117\u001b[0m response \u001b[38;5;241m=\u001b[39m \u001b[43mrequests\u001b[49m\u001b[38;5;241;43m.\u001b[39;49m\u001b[43mrequest\u001b[49m\u001b[43m(\u001b[49m\n\u001b[1;32m    118\u001b[0m \u001b[43m    \u001b[49m\u001b[43mmethod\u001b[49m\u001b[38;5;241;43m=\u001b[39;49m\u001b[43mmethod\u001b[49m\u001b[38;5;241;43m.\u001b[39;49m\u001b[43mupper\u001b[49m\u001b[43m(\u001b[49m\u001b[43m)\u001b[49m\u001b[43m,\u001b[49m\n\u001b[1;32m    119\u001b[0m \u001b[43m    \u001b[49m\u001b[43murl\u001b[49m\u001b[38;5;241;43m=\u001b[39;49m\u001b[43murl\u001b[49m\u001b[43m,\u001b[49m\n\u001b[1;32m    120\u001b[0m \u001b[43m    \u001b[49m\u001b[43mparams\u001b[49m\u001b[38;5;241;43m=\u001b[39;49m\u001b[43mparams\u001b[49m\u001b[43m[\u001b[49m\u001b[38;5;124;43m\"\u001b[39;49m\u001b[38;5;124;43mquery\u001b[39;49m\u001b[38;5;124;43m\"\u001b[39;49m\u001b[43m]\u001b[49m\u001b[43m,\u001b[49m\n\u001b[1;32m    121\u001b[0m \u001b[43m    \u001b[49m\u001b[43mjson\u001b[49m\u001b[38;5;241;43m=\u001b[39;49m\u001b[43mbody_data\u001b[49m\u001b[43m,\u001b[49m\n\u001b[1;32m    122\u001b[0m \u001b[43m    \u001b[49m\u001b[43mheaders\u001b[49m\u001b[38;5;241;43m=\u001b[39;49m\u001b[43mheaders\u001b[49m\u001b[43m,\u001b[49m\n\u001b[1;32m    123\u001b[0m \u001b[43m    \u001b[49m\u001b[43mcookies\u001b[49m\u001b[38;5;241;43m=\u001b[39;49m\u001b[43mparams\u001b[49m\u001b[43m[\u001b[49m\u001b[38;5;124;43m\"\u001b[39;49m\u001b[38;5;124;43mcookie\u001b[39;49m\u001b[38;5;124;43m\"\u001b[39;49m\u001b[43m]\u001b[49m\n\u001b[1;32m    124\u001b[0m \u001b[43m\u001b[49m\u001b[43m)\u001b[49m\n\u001b[1;32m    126\u001b[0m \u001b[38;5;28;01mif\u001b[39;00m \u001b[38;5;124m\"\u001b[39m\u001b[38;5;124mimage\u001b[39m\u001b[38;5;124m\"\u001b[39m \u001b[38;5;129;01min\u001b[39;00m response\u001b[38;5;241m.\u001b[39mheaders\u001b[38;5;241m.\u001b[39mget(\u001b[38;5;124m\"\u001b[39m\u001b[38;5;124mContent-Type\u001b[39m\u001b[38;5;124m\"\u001b[39m, \u001b[38;5;124m\"\u001b[39m\u001b[38;5;124m\"\u001b[39m):\n\u001b[1;32m    127\u001b[0m     image_extension \u001b[38;5;241m=\u001b[39m response\u001b[38;5;241m.\u001b[39mheaders\u001b[38;5;241m.\u001b[39mget(\u001b[38;5;124m\"\u001b[39m\u001b[38;5;124mContent-Type\u001b[39m\u001b[38;5;124m\"\u001b[39m, \u001b[38;5;124m\"\u001b[39m\u001b[38;5;124m\"\u001b[39m)\u001b[38;5;241m.\u001b[39msplit(\u001b[38;5;124m\"\u001b[39m\u001b[38;5;124m/\u001b[39m\u001b[38;5;124m\"\u001b[39m)[\u001b[38;5;241m-\u001b[39m\u001b[38;5;241m1\u001b[39m]\n",
      "File \u001b[0;32m/data2/polyakov/anaconda3/envs/alpaca-lora-1/lib/python3.10/site-packages/requests/api.py:59\u001b[0m, in \u001b[0;36mrequest\u001b[0;34m(method, url, **kwargs)\u001b[0m\n\u001b[1;32m     55\u001b[0m \u001b[38;5;66;03m# By using the 'with' statement we are sure the session is closed, thus we\u001b[39;00m\n\u001b[1;32m     56\u001b[0m \u001b[38;5;66;03m# avoid leaving sockets open which can trigger a ResourceWarning in some\u001b[39;00m\n\u001b[1;32m     57\u001b[0m \u001b[38;5;66;03m# cases, and look like a memory leak in others.\u001b[39;00m\n\u001b[1;32m     58\u001b[0m \u001b[38;5;28;01mwith\u001b[39;00m sessions\u001b[38;5;241m.\u001b[39mSession() \u001b[38;5;28;01mas\u001b[39;00m session:\n\u001b[0;32m---> 59\u001b[0m     \u001b[38;5;28;01mreturn\u001b[39;00m \u001b[43msession\u001b[49m\u001b[38;5;241;43m.\u001b[39;49m\u001b[43mrequest\u001b[49m\u001b[43m(\u001b[49m\u001b[43mmethod\u001b[49m\u001b[38;5;241;43m=\u001b[39;49m\u001b[43mmethod\u001b[49m\u001b[43m,\u001b[49m\u001b[43m \u001b[49m\u001b[43murl\u001b[49m\u001b[38;5;241;43m=\u001b[39;49m\u001b[43murl\u001b[49m\u001b[43m,\u001b[49m\u001b[43m \u001b[49m\u001b[38;5;241;43m*\u001b[39;49m\u001b[38;5;241;43m*\u001b[39;49m\u001b[43mkwargs\u001b[49m\u001b[43m)\u001b[49m\n",
      "File \u001b[0;32m/data2/polyakov/anaconda3/envs/alpaca-lora-1/lib/python3.10/site-packages/requests/sessions.py:589\u001b[0m, in \u001b[0;36mSession.request\u001b[0;34m(self, method, url, params, data, headers, cookies, files, auth, timeout, allow_redirects, proxies, hooks, stream, verify, cert, json)\u001b[0m\n\u001b[1;32m    584\u001b[0m send_kwargs \u001b[38;5;241m=\u001b[39m {\n\u001b[1;32m    585\u001b[0m     \u001b[38;5;124m\"\u001b[39m\u001b[38;5;124mtimeout\u001b[39m\u001b[38;5;124m\"\u001b[39m: timeout,\n\u001b[1;32m    586\u001b[0m     \u001b[38;5;124m\"\u001b[39m\u001b[38;5;124mallow_redirects\u001b[39m\u001b[38;5;124m\"\u001b[39m: allow_redirects,\n\u001b[1;32m    587\u001b[0m }\n\u001b[1;32m    588\u001b[0m send_kwargs\u001b[38;5;241m.\u001b[39mupdate(settings)\n\u001b[0;32m--> 589\u001b[0m resp \u001b[38;5;241m=\u001b[39m \u001b[38;5;28;43mself\u001b[39;49m\u001b[38;5;241;43m.\u001b[39;49m\u001b[43msend\u001b[49m\u001b[43m(\u001b[49m\u001b[43mprep\u001b[49m\u001b[43m,\u001b[49m\u001b[43m \u001b[49m\u001b[38;5;241;43m*\u001b[39;49m\u001b[38;5;241;43m*\u001b[39;49m\u001b[43msend_kwargs\u001b[49m\u001b[43m)\u001b[49m\n\u001b[1;32m    591\u001b[0m \u001b[38;5;28;01mreturn\u001b[39;00m resp\n",
      "File \u001b[0;32m/data2/polyakov/anaconda3/envs/alpaca-lora-1/lib/python3.10/site-packages/requests/sessions.py:703\u001b[0m, in \u001b[0;36mSession.send\u001b[0;34m(self, request, **kwargs)\u001b[0m\n\u001b[1;32m    700\u001b[0m start \u001b[38;5;241m=\u001b[39m preferred_clock()\n\u001b[1;32m    702\u001b[0m \u001b[38;5;66;03m# Send the request\u001b[39;00m\n\u001b[0;32m--> 703\u001b[0m r \u001b[38;5;241m=\u001b[39m \u001b[43madapter\u001b[49m\u001b[38;5;241;43m.\u001b[39;49m\u001b[43msend\u001b[49m\u001b[43m(\u001b[49m\u001b[43mrequest\u001b[49m\u001b[43m,\u001b[49m\u001b[43m \u001b[49m\u001b[38;5;241;43m*\u001b[39;49m\u001b[38;5;241;43m*\u001b[39;49m\u001b[43mkwargs\u001b[49m\u001b[43m)\u001b[49m\n\u001b[1;32m    705\u001b[0m \u001b[38;5;66;03m# Total elapsed time of the request (approximately)\u001b[39;00m\n\u001b[1;32m    706\u001b[0m elapsed \u001b[38;5;241m=\u001b[39m preferred_clock() \u001b[38;5;241m-\u001b[39m start\n",
      "File \u001b[0;32m/data2/polyakov/anaconda3/envs/alpaca-lora-1/lib/python3.10/site-packages/requests/adapters.py:698\u001b[0m, in \u001b[0;36mHTTPAdapter.send\u001b[0;34m(self, request, stream, timeout, verify, cert, proxies)\u001b[0m\n\u001b[1;32m    694\u001b[0m         \u001b[38;5;28;01mraise\u001b[39;00m ProxyError(e, request\u001b[38;5;241m=\u001b[39mrequest)\n\u001b[1;32m    696\u001b[0m     \u001b[38;5;28;01mif\u001b[39;00m \u001b[38;5;28misinstance\u001b[39m(e\u001b[38;5;241m.\u001b[39mreason, _SSLError):\n\u001b[1;32m    697\u001b[0m         \u001b[38;5;66;03m# This branch is for urllib3 v1.22 and later.\u001b[39;00m\n\u001b[0;32m--> 698\u001b[0m         \u001b[38;5;28;01mraise\u001b[39;00m SSLError(e, request\u001b[38;5;241m=\u001b[39mrequest)\n\u001b[1;32m    700\u001b[0m     \u001b[38;5;28;01mraise\u001b[39;00m \u001b[38;5;167;01mConnectionError\u001b[39;00m(e, request\u001b[38;5;241m=\u001b[39mrequest)\n\u001b[1;32m    702\u001b[0m \u001b[38;5;28;01mexcept\u001b[39;00m ClosedPoolError \u001b[38;5;28;01mas\u001b[39;00m e:\n",
      "\u001b[0;31mSSLError\u001b[0m: HTTPSConnectionPool(host='date.nager.at', port=443): Max retries exceeded with url: /api/v3/IsTodayPublicHoliday/cn?offset=1 (Caused by SSLError(SSLCertVerificationError(1, '[SSL: CERTIFICATE_VERIFY_FAILED] certificate verify failed: self-signed certificate in certificate chain (_ssl.c:1007)')))"
     ]
    }
   ],
   "source": [
    "test_tool = tools['PublicHolidayIsTodayPublicHoliday']\n",
    "test_tool._run('{\\\"countryCode\\\": \\\"cn\\\", \\\"offset\\\": 1}')"
   ]
  },
  {
   "cell_type": "code",
   "execution_count": null,
   "metadata": {},
   "outputs": [],
   "source": []
  }
 ],
 "metadata": {
  "kernelspec": {
   "display_name": "Python 3 (ipykernel)",
   "language": "python",
   "name": "python3"
  },
  "language_info": {
   "codemirror_mode": {
    "name": "ipython",
    "version": 3
   },
   "file_extension": ".py",
   "mimetype": "text/x-python",
   "name": "python",
   "nbconvert_exporter": "python",
   "pygments_lexer": "ipython3",
   "version": "3.10.11"
  }
 },
 "nbformat": 4,
 "nbformat_minor": 2
}
